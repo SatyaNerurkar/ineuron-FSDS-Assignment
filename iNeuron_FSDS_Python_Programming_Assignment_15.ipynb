{
  "nbformat": 4,
  "nbformat_minor": 0,
  "metadata": {
    "colab": {
      "provenance": []
    },
    "kernelspec": {
      "name": "python3",
      "display_name": "Python 3"
    },
    "language_info": {
      "name": "python"
    }
  },
  "cells": [
    {
      "cell_type": "markdown",
      "source": [
        "#Python programming assignment 15\n"
      ],
      "metadata": {
        "id": "IaUW8nPCrUJm"
      }
    },
    {
      "cell_type": "markdown",
      "source": [
        "Assignment can be found at [Assignment](https://drive.google.com/file/d/1Yg8d2Hj-LtWp0JrJOcuPuPZQswOqwe-U/view)"
      ],
      "metadata": {
        "id": "uTfdkfS6rUFW"
      }
    },
    {
      "cell_type": "markdown",
      "source": [
        "Please write a program using generator to print the numbers which can be divisible by 5 and 7 between 0 and n in comma separated form while n is input by console.<br>\n",
        "Example:<br>\n",
        "If the following n is given as input to the program:\n",
        "100<br>\n",
        "Then, the output of the program should be:\n",
        "0,35,70<br>"
      ],
      "metadata": {
        "id": "foJe35xxrUA2"
      }
    },
    {
      "cell_type": "code",
      "execution_count": null,
      "metadata": {
        "colab": {
          "base_uri": "https://localhost:8080/"
        },
        "id": "8HjvQ8a1rQiP",
        "outputId": "b020622e-3abd-48ea-8022-67fd051bf8b3"
      },
      "outputs": [
        {
          "output_type": "stream",
          "name": "stdout",
          "text": [
            "Enter the range for divisible by 5 and 7 numbers:10\n",
            "0\n"
          ]
        }
      ],
      "source": [
        "def divisible_by_5_and_7(n):\n",
        "    for i in range(n+1):\n",
        "        if i % 5 == 0 and i % 7 == 0:\n",
        "            yield i\n",
        "\n",
        "n = int(input(\"Enter the range for divisible by 5 and 7 numbers:\"))\n",
        "nums = divisible_by_5_and_7(n)\n",
        "print(\",\".join(map(str,nums)))"
      ]
    },
    {
      "cell_type": "markdown",
      "source": [
        "Please write a program using generator to print the even numbers between 0 and n in comma separated form while n is input by console.<br>\n",
        "Example:<br>\n",
        "If the following n is given as input to the program:<br>\n",
        "`10`<br>\n",
        "Then, the output of the program should be:<br>\n",
        "`0,2,4,6,8,10`<br>"
      ],
      "metadata": {
        "id": "VvhbJf_0sojC"
      }
    },
    {
      "cell_type": "code",
      "source": [
        "def even_numbers(n):\n",
        "    for i in range(0, n+1, 2):\n",
        "        yield i"
      ],
      "metadata": {
        "id": "ev4mlP99sN2N"
      },
      "execution_count": 1,
      "outputs": []
    },
    {
      "cell_type": "code",
      "source": [
        "n = int(input(\"Enter a number: \"))\n",
        "print(','.join(str(x) for x in even_numbers(n)))"
      ],
      "metadata": {
        "colab": {
          "base_uri": "https://localhost:8080/"
        },
        "id": "X644o_9xiTQp",
        "outputId": "2358a5c9-1be8-45b5-bcb6-e65e44e2a96b"
      },
      "execution_count": 2,
      "outputs": [
        {
          "output_type": "stream",
          "name": "stdout",
          "text": [
            "Enter a number: 10\n",
            "0,2,4,6,8,10\n"
          ]
        }
      ]
    },
    {
      "cell_type": "markdown",
      "source": [
        "The Fibonacci Sequence is computed based on the following formula:<br>\n",
        "`f(n)=0 if n=0`<br>\n",
        "`f(n)=1 if n=1`<br>\n",
        "`f(n)=f(n-1)+f(n-2) if n>1`<br>\n",
        "Please write a program using list comprehension to print the Fibonacci Sequence in comma separated form with a given n input by console.<br>\n",
        "Example:<br>\n",
        "If the following n is given as input to the program:\n",
        "`7`<br>\n",
        "\n",
        "Then, the output of the program should be:<br>\n",
        "`0,1,1,2,3,5,8,13`"
      ],
      "metadata": {
        "id": "6_5T5MqNs_6A"
      }
    },
    {
      "cell_type": "code",
      "source": [
        "def fibonacci(n):\n",
        "    if n == 0:\n",
        "        return 0\n",
        "    elif n == 1:\n",
        "        return 1\n",
        "    else:\n",
        "        return fibonacci(n-1) + fibonacci(n-2)"
      ],
      "metadata": {
        "id": "GXmRZ_YUtAiU"
      },
      "execution_count": 6,
      "outputs": []
    },
    {
      "cell_type": "code",
      "source": [
        "n = int(input(\"Enter a number: \"))\n",
        "fib_seq = [fibonacci(i) for i in range(n+1)]\n",
        "print(','.join(str(x) for x in fib_seq))"
      ],
      "metadata": {
        "colab": {
          "base_uri": "https://localhost:8080/"
        },
        "id": "quvpbTn0lFOD",
        "outputId": "7ebc66bb-5d9c-421d-b3f7-c60a11ea47b1"
      },
      "execution_count": 8,
      "outputs": [
        {
          "output_type": "stream",
          "name": "stdout",
          "text": [
            "Enter a number: 7\n",
            "0,1,1,2,3,5,8,13\n"
          ]
        }
      ]
    },
    {
      "cell_type": "markdown",
      "source": [
        "Assuming that we have some email addresses in the \"username@companyname.com\" format, please write program to print the user name of a given email address. Both user names and company names are composed of letters only.<br>\n",
        "Example:<br>\n",
        "If the following email address is given as input to the program:<br>\n",
        "`john@google.com`<br>\n",
        "Then, the output of the program should be:<br>\n",
        "`john`<br>"
      ],
      "metadata": {
        "id": "c8sax4yitBVp"
      }
    },
    {
      "cell_type": "code",
      "source": [
        "email = input(\"Enter an email address: \")\n",
        "username = email.split('@')[0]\n",
        "print(username)"
      ],
      "metadata": {
        "id": "nu-yWd4-tCi1",
        "colab": {
          "base_uri": "https://localhost:8080/"
        },
        "outputId": "e5cbbe60-e7e6-46bb-f792-4df5ff62d621"
      },
      "execution_count": 9,
      "outputs": [
        {
          "output_type": "stream",
          "name": "stdout",
          "text": [
            "Enter an email address: satya@google.com\n",
            "satya\n"
          ]
        }
      ]
    },
    {
      "cell_type": "markdown",
      "source": [
        "Define a class named Shape and its subclass Square. The Square class has an init function which takes a length as argument. Both classes have a area function which can print the area of the shape where Shape&#39;s area is 0 by default."
      ],
      "metadata": {
        "id": "0YH6IlPutC1P"
      }
    },
    {
      "cell_type": "code",
      "source": [
        "class Shape:\n",
        "    def __init__(self):\n",
        "        pass\n",
        "\n",
        "    def area(self):\n",
        "        return 0\n",
        "\n",
        "class Square(Shape):\n",
        "    def __init__(self, length):\n",
        "        super().__init__()\n",
        "        self.length = length\n",
        "\n",
        "    def area(self):\n",
        "        return self.length ** 2"
      ],
      "metadata": {
        "id": "oOQTE-jWtDbc"
      },
      "execution_count": 10,
      "outputs": []
    },
    {
      "cell_type": "code",
      "source": [
        "s = Shape()\n",
        "print(s.area())\n",
        "\n",
        "sq = Square(5)\n",
        "print(sq.area()) "
      ],
      "metadata": {
        "id": "BoOwe5dttDxf",
        "colab": {
          "base_uri": "https://localhost:8080/"
        },
        "outputId": "8f43d845-dc4c-429b-f092-1ba2065a1486"
      },
      "execution_count": 11,
      "outputs": [
        {
          "output_type": "stream",
          "name": "stdout",
          "text": [
            "0\n",
            "25\n"
          ]
        }
      ]
    }
  ]
}