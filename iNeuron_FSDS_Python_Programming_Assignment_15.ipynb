{
  "nbformat": 4,
  "nbformat_minor": 0,
  "metadata": {
    "colab": {
      "provenance": []
    },
    "kernelspec": {
      "name": "python3",
      "display_name": "Python 3"
    },
    "language_info": {
      "name": "python"
    }
  },
  "cells": [
    {
      "cell_type": "markdown",
      "source": [
        "#Python programming assignment 15\n"
      ],
      "metadata": {
        "id": "IaUW8nPCrUJm"
      }
    },
    {
      "cell_type": "markdown",
      "source": [
        "Assignment can be found at [Assignment](https://drive.google.com/file/d/1Yg8d2Hj-LtWp0JrJOcuPuPZQswOqwe-U/view)"
      ],
      "metadata": {
        "id": "uTfdkfS6rUFW"
      }
    },
    {
      "cell_type": "markdown",
      "source": [
        "Please write a program using generator to print the numbers which can be divisible by 5 and 7 between 0 and n in comma separated form while n is input by console.<br>\n",
        "Example:<br>\n",
        "If the following n is given as input to the program:\n",
        "100<br>\n",
        "Then, the output of the program should be:\n",
        "0,35,70<br>"
      ],
      "metadata": {
        "id": "foJe35xxrUA2"
      }
    },
    {
      "cell_type": "code",
      "execution_count": 1,
      "metadata": {
        "colab": {
          "base_uri": "https://localhost:8080/"
        },
        "id": "8HjvQ8a1rQiP",
        "outputId": "b020622e-3abd-48ea-8022-67fd051bf8b3"
      },
      "outputs": [
        {
          "output_type": "stream",
          "name": "stdout",
          "text": [
            "Enter the range for divisible by 5 and 7 numbers:10\n",
            "0\n"
          ]
        }
      ],
      "source": [
        "def divisible_by_5_and_7(n):\n",
        "    for i in range(n+1):\n",
        "        if i % 5 == 0 and i % 7 == 0:\n",
        "            yield i\n",
        "\n",
        "n = int(input(\"Enter the range for divisible by 5 and 7 numbers:\"))\n",
        "nums = divisible_by_5_and_7(n)\n",
        "print(\",\".join(map(str,nums)))"
      ]
    },
    {
      "cell_type": "markdown",
      "source": [
        "Please write a program using generator to print the even numbers between 0 and n in comma separated form while n is input by console.<br>\n",
        "Example:<br>\n",
        "If the following n is given as input to the program:<br>\n",
        "`10`<br>\n",
        "Then, the output of the program should be:<br>\n",
        "`0,2,4,6,8,10`<br>"
      ],
      "metadata": {
        "id": "VvhbJf_0sojC"
      }
    },
    {
      "cell_type": "code",
      "source": [],
      "metadata": {
        "id": "ev4mlP99sN2N"
      },
      "execution_count": null,
      "outputs": []
    },
    {
      "cell_type": "markdown",
      "source": [
        "The Fibonacci Sequence is computed based on the following formula:<br>\n",
        "`f(n)=0 if n=0`<br>\n",
        "`f(n)=1 if n=1`<br>\n",
        "`f(n)=f(n-1)+f(n-2) if n>1`<br>\n",
        "Please write a program using list comprehension to print the Fibonacci Sequence in comma separated form with a given n input by console.<br>\n",
        "Example:<br>\n",
        "If the following n is given as input to the program:\n",
        "`7`<br>\n",
        "\n",
        "Then, the output of the program should be:<br>\n",
        "`0,1,1,2,3,5,8,13`"
      ],
      "metadata": {
        "id": "6_5T5MqNs_6A"
      }
    },
    {
      "cell_type": "code",
      "source": [],
      "metadata": {
        "id": "GXmRZ_YUtAiU"
      },
      "execution_count": null,
      "outputs": []
    },
    {
      "cell_type": "code",
      "source": [],
      "metadata": {
        "id": "Ne14T2x-tA89"
      },
      "execution_count": null,
      "outputs": []
    },
    {
      "cell_type": "markdown",
      "source": [],
      "metadata": {
        "id": "c8sax4yitBVp"
      }
    },
    {
      "cell_type": "code",
      "source": [],
      "metadata": {
        "id": "nu-yWd4-tCi1"
      },
      "execution_count": null,
      "outputs": []
    },
    {
      "cell_type": "code",
      "source": [],
      "metadata": {
        "id": "KTZxOpUotB7b"
      },
      "execution_count": null,
      "outputs": []
    },
    {
      "cell_type": "markdown",
      "source": [],
      "metadata": {
        "id": "0YH6IlPutC1P"
      }
    },
    {
      "cell_type": "code",
      "source": [],
      "metadata": {
        "id": "oOQTE-jWtDbc"
      },
      "execution_count": null,
      "outputs": []
    },
    {
      "cell_type": "code",
      "source": [],
      "metadata": {
        "id": "BoOwe5dttDxf"
      },
      "execution_count": null,
      "outputs": []
    },
    {
      "cell_type": "markdown",
      "source": [],
      "metadata": {
        "id": "j3qhrO3TtED7"
      }
    },
    {
      "cell_type": "code",
      "source": [],
      "metadata": {
        "id": "iUvhlHAOtEyI"
      },
      "execution_count": null,
      "outputs": []
    },
    {
      "cell_type": "code",
      "source": [],
      "metadata": {
        "id": "y0Q4gPH3tEZ1"
      },
      "execution_count": null,
      "outputs": []
    }
  ]
}