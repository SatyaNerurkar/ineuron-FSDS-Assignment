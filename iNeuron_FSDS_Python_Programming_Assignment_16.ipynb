{
  "nbformat": 4,
  "nbformat_minor": 0,
  "metadata": {
    "colab": {
      "provenance": [],
      "authorship_tag": "ABX9TyPtP4ZxQME3C9cHY7bRQNIJ"
    },
    "kernelspec": {
      "name": "python3",
      "display_name": "Python 3"
    },
    "language_info": {
      "name": "python"
    }
  },
  "cells": [
    {
      "cell_type": "markdown",
      "source": [
        "#Python programming assignment 16"
      ],
      "metadata": {
        "id": "9V9vFBkjuTHC"
      }
    },
    {
      "cell_type": "markdown",
      "source": [
        "Assignment can be found at [Assignment](https://drive.google.com/file/d/1uNLLFb5QaW2W_LzdoUii48gb7CM0sOEN/view)"
      ],
      "metadata": {
        "id": "VS2gzfibKpvL"
      }
    },
    {
      "cell_type": "markdown",
      "source": [
        "Write a function that stutters a word as if someone is struggling to read it. The\n",
        "first two letters are repeated twice with an ellipsis ... and space after each, and then the\n",
        "word is pronounced with a question mark ?.<br>\n",
        "**Examples**\n",
        "* stutter(&quot;incredible&quot;) ➞ &quot;in... in... incredible?&quot;\n",
        "* stutter(&quot;enthusiastic&quot;) ➞ &quot;en... en... enthusiastic?&quot;\n",
        "* stutter(&quot;outstanding&quot;) ➞ &quot;ou... ou... outstanding?&quot;"
      ],
      "metadata": {
        "id": "o4Ub4-2OuS3L"
      }
    },
    {
      "cell_type": "code",
      "execution_count": 1,
      "metadata": {
        "id": "CPP8zY5DuPxy"
      },
      "outputs": [],
      "source": [
        "def stutter(word):\n",
        "    stuttered_word = word[:2] + \"... \" + word[:2] + \"... \" + word + \"?\"\n",
        "    return stuttered_word"
      ]
    },
    {
      "cell_type": "code",
      "source": [
        "print(stutter(\"incredible\"))\n",
        "stutter(\"enthusiastic\")\n",
        "stutter(\"outstanding\")"
      ],
      "metadata": {
        "colab": {
          "base_uri": "https://localhost:8080/",
          "height": 36
        },
        "id": "p9sztQ8RGx6v",
        "outputId": "fae274c0-3d6f-4572-98ca-aa46e3f91c1f"
      },
      "execution_count": 3,
      "outputs": [
        {
          "output_type": "execute_result",
          "data": {
            "text/plain": [
              "'ou... ou... outstanding?'"
            ],
            "application/vnd.google.colaboratory.intrinsic+json": {
              "type": "string"
            }
          },
          "metadata": {},
          "execution_count": 3
        }
      ]
    },
    {
      "cell_type": "markdown",
      "source": [
        "Question 2.Create a function that takes an angle in radians and returns the corresponding\n",
        "angle in degrees rounded to one decimal place.<br>\n",
        "\n",
        "**Examples**\n",
        "* radians_to_degrees(1) ➞ 57.3\n",
        "* radians_to_degrees(20) ➞ 1145.9\n",
        "* radians_to_degrees(50) ➞ 2864.8"
      ],
      "metadata": {
        "id": "Ckl8-lveI_9J"
      }
    },
    {
      "cell_type": "code",
      "source": [
        "import math\n",
        "\n",
        "def radians_to_degrees(radians):\n",
        "    degrees = radians * (180 / math.pi)\n",
        "    return round(degrees, 1)"
      ],
      "metadata": {
        "id": "1wC_BgopI-Jh"
      },
      "execution_count": 4,
      "outputs": []
    },
    {
      "cell_type": "code",
      "source": [
        "print(radians_to_degrees(1)) \n",
        "print(radians_to_degrees(20))  \n",
        "print(radians_to_degrees(50))  "
      ],
      "metadata": {
        "colab": {
          "base_uri": "https://localhost:8080/"
        },
        "id": "6B5hcDKXI9bj",
        "outputId": "f004404e-a745-4d7e-f387-59b294fac5e3"
      },
      "execution_count": 5,
      "outputs": [
        {
          "output_type": "stream",
          "name": "stdout",
          "text": [
            "57.3\n",
            "1145.9\n",
            "2864.8\n"
          ]
        }
      ]
    },
    {
      "cell_type": "markdown",
      "source": [
        "Question 3. In this challenge, establish if a given integer num is a Curzon number. If 1 plus\n",
        "2 elevated to num is exactly divisible by 1 plus 2 multiplied by num, then num is a Curzon\n",
        "number.\n",
        "Given a non-negative integer num, implement a function that returns True if num is a Curzon\n",
        "number, or False otherwise.<Br>\n",
        "**Examples**\n",
        "is_curzon(5) ➞ True\n",
        "# 2 ** 5 + 1 = 33\n",
        "# 2 * 5 + 1 = 11\n",
        "# 33 is a multiple of 11\n",
        "is_curzon(10) ➞ False\n",
        "# 2 ** 10 + 1 = 1025\n",
        "# 2 * 10 + 1 = 21\n",
        "# 1025 is not a multiple of 21\n",
        "is_curzon(14) ➞ True\n",
        "# 2 ** 14 + 1 = 16385\n",
        "# 2 * 14 + 1 = 29\n",
        "# 16385 is a multiple of 29"
      ],
      "metadata": {
        "id": "DODLXwm7JhI6"
      }
    },
    {
      "cell_type": "code",
      "source": [
        "def is_curzon(num):\n",
        "    numerator = 2 ** num + 1\n",
        "    denominator = 2 * num + 1\n",
        "    return numerator % denominator == 0"
      ],
      "metadata": {
        "id": "1CsG0gzhG67A"
      },
      "execution_count": 6,
      "outputs": []
    },
    {
      "cell_type": "code",
      "source": [
        "print(is_curzon(5))  \n",
        "print(is_curzon(10))  \n",
        "print(is_curzon(14))  "
      ],
      "metadata": {
        "colab": {
          "base_uri": "https://localhost:8080/"
        },
        "id": "gmQdgPrmG3wK",
        "outputId": "0a3ea6ce-c52f-4f16-b6d6-44fc39bd7419"
      },
      "execution_count": 7,
      "outputs": [
        {
          "output_type": "stream",
          "name": "stdout",
          "text": [
            "True\n",
            "False\n",
            "True\n"
          ]
        }
      ]
    },
    {
      "cell_type": "markdown",
      "source": [
        "Question 4.Given the side length x find the area of a hexagon."
      ],
      "metadata": {
        "id": "eh6M2nm0KC3L"
      }
    },
    {
      "cell_type": "code",
      "source": [
        "import math\n",
        "\n",
        "def area_of_hexagon(x):\n",
        "    area = (3 * math.sqrt(3) * x ** 2) / 2\n",
        "    return round(area, 1)"
      ],
      "metadata": {
        "id": "mnUZEIyJJ971"
      },
      "execution_count": 8,
      "outputs": []
    },
    {
      "cell_type": "code",
      "source": [
        "print(area_of_hexagon(1))  \n",
        "print(area_of_hexagon(2))  \n",
        "print(area_of_hexagon(3))  "
      ],
      "metadata": {
        "colab": {
          "base_uri": "https://localhost:8080/"
        },
        "id": "ItGvUrxNKK1F",
        "outputId": "86faa530-a260-4994-ff50-9b227e51ea36"
      },
      "execution_count": 9,
      "outputs": [
        {
          "output_type": "stream",
          "name": "stdout",
          "text": [
            "2.6\n",
            "10.4\n",
            "23.4\n"
          ]
        }
      ]
    },
    {
      "cell_type": "markdown",
      "source": [
        "Question 5. Create a function that returns a base-2 (binary) representation of a base-10\n",
        "(decimal) string number. To convert is simple: ((2) means base-2 and (10) means base-10)\n",
        "010101001(2) = 1 + 8 + 32 + 128.\n",
        "Going from right to left, the value of the most right bit is 1, now from that every bit to the left\n",
        "will be x2 the value, value of an 8 bit binary numbers are (256, 128, 64, 32, 16, 8, 4, 2, 1).<Br>\n",
        "Examples\n",
        "binary(1) ➞ &quot;1&quot;\n",
        "# 1*1 = 1\n",
        "binary(5) ➞ &quot;101&quot;\n",
        "# 1*1 + 1*4 = 5\n",
        "binary(10) ➞ &quot;1010&quot;\n",
        "# 1*2 + 1*8 = 10"
      ],
      "metadata": {
        "id": "IAMDb3v0KR1H"
      }
    },
    {
      "cell_type": "code",
      "source": [
        "def binary(decimal):\n",
        "    if decimal == 0:\n",
        "        return \"0\"\n",
        "\n",
        "    binary_digits = []\n",
        "    while decimal > 0:\n",
        "        binary_digits.append(str(decimal % 2))\n",
        "        decimal //= 2\n",
        "\n",
        "    binary_digits.reverse()\n",
        "    return \"\".join(binary_digits)"
      ],
      "metadata": {
        "id": "YDoKLxrzKOSQ"
      },
      "execution_count": 10,
      "outputs": []
    },
    {
      "cell_type": "code",
      "source": [
        "print(binary(1))  \n",
        "print(binary(5))  \n",
        "print(binary(10))  "
      ],
      "metadata": {
        "colab": {
          "base_uri": "https://localhost:8080/"
        },
        "id": "5grIpIMSKcBG",
        "outputId": "eea6df8b-bea1-48e2-fc51-48001b6991d3"
      },
      "execution_count": 11,
      "outputs": [
        {
          "output_type": "stream",
          "name": "stdout",
          "text": [
            "1\n",
            "101\n",
            "1010\n"
          ]
        }
      ]
    }
  ]
}