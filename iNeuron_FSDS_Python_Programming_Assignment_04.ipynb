{
  "nbformat": 4,
  "nbformat_minor": 0,
  "metadata": {
    "colab": {
      "provenance": [],
      "collapsed_sections": [
        "5S0hwStCJyYA",
        "vl_lb4YQBjvT",
        "U5BZnJ-AIq_K",
        "IPLbMkszIvtb",
        "ZaTsu4vyIzKd"
      ]
    },
    "kernelspec": {
      "name": "python3",
      "display_name": "Python 3"
    },
    "language_info": {
      "name": "python"
    }
  },
  "cells": [
    {
      "cell_type": "markdown",
      "source": [
        "# Python programming assignment 04"
      ],
      "metadata": {
        "id": "5S0hwStCJyYA"
      }
    },
    {
      "cell_type": "markdown",
      "source": [
        "Assignment can be found at: [Assignment](https://drive.google.com/file/d/1QxfssGYhN_Lt5N6515K1YtpauV5q-Vh1/view)"
      ],
      "metadata": {
        "id": "PEuAHc2lBZme"
      }
    },
    {
      "cell_type": "markdown",
      "source": [
        "# 1. Write a Python Program to Find the Factorial of a Number?"
      ],
      "metadata": {
        "id": "vl_lb4YQBjvT"
      }
    },
    {
      "cell_type": "code",
      "execution_count": null,
      "metadata": {
        "id": "UvauniMjBWq1"
      },
      "outputs": [],
      "source": [
        "def factorial(num):\n",
        "  '''\n",
        "  This function takes an integer number as an input and returns factorial of that number: n!\n",
        "  '''\n",
        "  fact = 1\n",
        "  while num >= 1:\n",
        "    fact = fact * num\n",
        "    num -= 1\n",
        "  return fact"
      ]
    },
    {
      "cell_type": "code",
      "source": [
        "num = int(input(\"Enter a number to get it's factorial:\"))\n",
        "factorial(num)"
      ],
      "metadata": {
        "colab": {
          "base_uri": "https://localhost:8080/"
        },
        "id": "4yKiYFEwV1QU",
        "outputId": "8649b051-af3e-4c6c-bf6d-bdd684c87cf4"
      },
      "execution_count": null,
      "outputs": [
        {
          "name": "stdout",
          "output_type": "stream",
          "text": [
            "Enter a number to get it's factorial:5\n"
          ]
        },
        {
          "output_type": "execute_result",
          "data": {
            "text/plain": [
              "120"
            ]
          },
          "metadata": {},
          "execution_count": 6
        }
      ]
    },
    {
      "cell_type": "markdown",
      "source": [
        "# 2. Write a Python Program to Display the multiplication Table?"
      ],
      "metadata": {
        "id": "U5BZnJ-AIq_K"
      }
    },
    {
      "cell_type": "code",
      "source": [
        "def multiplicationTable():\n",
        "  '''\n",
        "  This function will take any number as an input and generate it's multiplication table.\n",
        "  '''\n",
        "  num = int(input(\"Enter any number to get it's multiplication table:\"))\n",
        "  print((\"*\"*10),\"Generating Multiplication table\",(\"*\"*10))\n",
        "  for i in range(1,11):\n",
        "    print(\"|\"+str(num)+\" * \"+str(i)+\" = \"+str(num*i)+\"|\")"
      ],
      "metadata": {
        "id": "OYMcPZayBiNH"
      },
      "execution_count": null,
      "outputs": []
    },
    {
      "cell_type": "code",
      "source": [
        "multiplicationTable()"
      ],
      "metadata": {
        "colab": {
          "base_uri": "https://localhost:8080/"
        },
        "id": "0JAvMbeJLaVu",
        "outputId": "e53508d3-7ce7-4b47-9d90-e9303fd21cd4"
      },
      "execution_count": null,
      "outputs": [
        {
          "output_type": "stream",
          "name": "stdout",
          "text": [
            "Enter any number to get it's multiplication table:5\n",
            "********** Generating Multiplication table **********\n",
            "|5 * 1 = 5|\n",
            "|5 * 2 = 10|\n",
            "|5 * 3 = 15|\n",
            "|5 * 4 = 20|\n",
            "|5 * 5 = 25|\n",
            "|5 * 6 = 30|\n",
            "|5 * 7 = 35|\n",
            "|5 * 8 = 40|\n",
            "|5 * 9 = 45|\n",
            "|5 * 10 = 50|\n"
          ]
        }
      ]
    },
    {
      "cell_type": "markdown",
      "source": [
        "# 3. Write a Python Program to Print the Fibonacci sequence?"
      ],
      "metadata": {
        "id": "IPLbMkszIvtb"
      }
    },
    {
      "cell_type": "code",
      "source": [
        "def Fibbonacci():\n",
        "  '''\n",
        "  This function generates fibonacci numbers till n defined by user.\n",
        "  '''\n",
        "  a = 0\n",
        "  b = 1\n",
        "  fib = []\n",
        "  num = int(input(\"Enter nth number of fibbonaci numbers to be generated: \"))\n",
        "  for i in range(num):\n",
        "    fib.append(a)\n",
        "    a, b = b, a + b\n",
        "  return fib"
      ],
      "metadata": {
        "id": "hESkjBfbIxkS"
      },
      "execution_count": null,
      "outputs": []
    },
    {
      "cell_type": "code",
      "source": [
        "Fibbonacci()"
      ],
      "metadata": {
        "colab": {
          "base_uri": "https://localhost:8080/"
        },
        "id": "HEGTqVMUPOTn",
        "outputId": "b46aa7d7-c959-4cc8-948e-13129723de46"
      },
      "execution_count": null,
      "outputs": [
        {
          "name": "stdout",
          "output_type": "stream",
          "text": [
            "Enter nth number of fibbonaci numbers to be generated: 10\n"
          ]
        },
        {
          "output_type": "execute_result",
          "data": {
            "text/plain": [
              "[0, 1, 1, 2, 3, 5, 8, 13, 21, 34]"
            ]
          },
          "metadata": {},
          "execution_count": 10
        }
      ]
    },
    {
      "cell_type": "markdown",
      "source": [
        "# 4. Write a Python Program to Check Armstrong Number?"
      ],
      "metadata": {
        "id": "ZaTsu4vyIzKd"
      }
    },
    {
      "cell_type": "code",
      "source": [
        "def isArmstrong(num):\n",
        "  '''\n",
        "  This function takes any number as an input and validates whether the given number is an armstrong number or not.\n",
        "  '''\n",
        "  num1 = num\n",
        "  num = int(num1)\n",
        "  i = 0\n",
        "  sum = 0\n",
        "  while i <= len(num1):\n",
        "    sum = sum + ((num%10)**len(num1))\n",
        "    num = num//10\n",
        "    i+=1\n",
        "  if sum == int(num1):\n",
        "    print('{} is a Armstrong Number'.format(num1))\n",
        "  else:\n",
        "    print('{} is a Not Armstrong Number'.format(num1))"
      ],
      "metadata": {
        "id": "9Wr9Z-7ORrYC"
      },
      "execution_count": null,
      "outputs": []
    },
    {
      "cell_type": "code",
      "source": [
        "num = input('Enter a number to be validated: ')\n",
        "isArmstrong(num)"
      ],
      "metadata": {
        "colab": {
          "base_uri": "https://localhost:8080/"
        },
        "id": "mWfjIQwETnwf",
        "outputId": "48b013c9-94a9-45cd-97fa-9ecf369dfceb"
      },
      "execution_count": null,
      "outputs": [
        {
          "output_type": "stream",
          "name": "stdout",
          "text": [
            "Enter a number to be validated: 153\n",
            "153 is a Armstrong Number\n"
          ]
        }
      ]
    },
    {
      "cell_type": "code",
      "source": [
        "num = input('Enter a number to be validated: ')\n",
        "isArmstrong(num)"
      ],
      "metadata": {
        "colab": {
          "base_uri": "https://localhost:8080/"
        },
        "id": "c4fQvU8mhEni",
        "outputId": "2833a31d-b55a-4bb9-fb10-a86daa67c346"
      },
      "execution_count": null,
      "outputs": [
        {
          "output_type": "stream",
          "name": "stdout",
          "text": [
            "Enter a number to be validated: 154\n",
            "154 is a Not Armstrong Number\n"
          ]
        }
      ]
    },
    {
      "cell_type": "code",
      "source": [
        "num = input('Enter a number to be validated: ')\n",
        "isArmstrong(num)"
      ],
      "metadata": {
        "colab": {
          "base_uri": "https://localhost:8080/"
        },
        "id": "n_r79r0-ibql",
        "outputId": "f7e00ea8-4efd-4c47-9fd8-c1322104a40a"
      },
      "execution_count": null,
      "outputs": [
        {
          "output_type": "stream",
          "name": "stdout",
          "text": [
            "Enter a number to be validated: 370\n",
            "370 is a Armstrong Number\n"
          ]
        }
      ]
    },
    {
      "cell_type": "markdown",
      "source": [
        "# 5. Write a Python Program to Find Armstrong Number in an Interval?"
      ],
      "metadata": {
        "id": "JnQNNm7aI3M2"
      }
    },
    {
      "cell_type": "code",
      "source": [
        "def isArmstronginInterval(start, stop):\n",
        "  '''\n",
        "  This function takes an upperbound and lowerbound integer and check if numbers in that interval are armstrong numbers or not.\n",
        "  '''\n",
        "  for i in range(start, stop+1):\n",
        "    num = str(i)\n",
        "    isArmstrong(num)"
      ],
      "metadata": {
        "id": "8AN0RsLNI7fv"
      },
      "execution_count": null,
      "outputs": []
    },
    {
      "cell_type": "code",
      "source": [
        "start = int(input('Enter the start of the interval: '))\n",
        "stop = int(input('Enter the end of the interval: '))\n",
        "isArmstronginInterval(start, stop)"
      ],
      "metadata": {
        "colab": {
          "base_uri": "https://localhost:8080/"
        },
        "id": "UhBUYuoGSyS2",
        "outputId": "ea5747f7-d935-4e95-f660-22055cb858a5"
      },
      "execution_count": null,
      "outputs": [
        {
          "output_type": "stream",
          "name": "stdout",
          "text": [
            "Enter the start of the interval: 1\n",
            "Enter the end of the interval: 100\n",
            "1 is a Armstrong Number\n",
            "2 is a Armstrong Number\n",
            "3 is a Armstrong Number\n",
            "4 is a Armstrong Number\n",
            "5 is a Armstrong Number\n",
            "6 is a Armstrong Number\n",
            "7 is a Armstrong Number\n",
            "8 is a Armstrong Number\n",
            "9 is a Armstrong Number\n",
            "10 is a Not Armstrong Number\n",
            "11 is a Not Armstrong Number\n",
            "12 is a Not Armstrong Number\n",
            "13 is a Not Armstrong Number\n",
            "14 is a Not Armstrong Number\n",
            "15 is a Not Armstrong Number\n",
            "16 is a Not Armstrong Number\n",
            "17 is a Not Armstrong Number\n",
            "18 is a Not Armstrong Number\n",
            "19 is a Not Armstrong Number\n",
            "20 is a Not Armstrong Number\n",
            "21 is a Not Armstrong Number\n",
            "22 is a Not Armstrong Number\n",
            "23 is a Not Armstrong Number\n",
            "24 is a Not Armstrong Number\n",
            "25 is a Not Armstrong Number\n",
            "26 is a Not Armstrong Number\n",
            "27 is a Not Armstrong Number\n",
            "28 is a Not Armstrong Number\n",
            "29 is a Not Armstrong Number\n",
            "30 is a Not Armstrong Number\n",
            "31 is a Not Armstrong Number\n",
            "32 is a Not Armstrong Number\n",
            "33 is a Not Armstrong Number\n",
            "34 is a Not Armstrong Number\n",
            "35 is a Not Armstrong Number\n",
            "36 is a Not Armstrong Number\n",
            "37 is a Not Armstrong Number\n",
            "38 is a Not Armstrong Number\n",
            "39 is a Not Armstrong Number\n",
            "40 is a Not Armstrong Number\n",
            "41 is a Not Armstrong Number\n",
            "42 is a Not Armstrong Number\n",
            "43 is a Not Armstrong Number\n",
            "44 is a Not Armstrong Number\n",
            "45 is a Not Armstrong Number\n",
            "46 is a Not Armstrong Number\n",
            "47 is a Not Armstrong Number\n",
            "48 is a Not Armstrong Number\n",
            "49 is a Not Armstrong Number\n",
            "50 is a Not Armstrong Number\n",
            "51 is a Not Armstrong Number\n",
            "52 is a Not Armstrong Number\n",
            "53 is a Not Armstrong Number\n",
            "54 is a Not Armstrong Number\n",
            "55 is a Not Armstrong Number\n",
            "56 is a Not Armstrong Number\n",
            "57 is a Not Armstrong Number\n",
            "58 is a Not Armstrong Number\n",
            "59 is a Not Armstrong Number\n",
            "60 is a Not Armstrong Number\n",
            "61 is a Not Armstrong Number\n",
            "62 is a Not Armstrong Number\n",
            "63 is a Not Armstrong Number\n",
            "64 is a Not Armstrong Number\n",
            "65 is a Not Armstrong Number\n",
            "66 is a Not Armstrong Number\n",
            "67 is a Not Armstrong Number\n",
            "68 is a Not Armstrong Number\n",
            "69 is a Not Armstrong Number\n",
            "70 is a Not Armstrong Number\n",
            "71 is a Not Armstrong Number\n",
            "72 is a Not Armstrong Number\n",
            "73 is a Not Armstrong Number\n",
            "74 is a Not Armstrong Number\n",
            "75 is a Not Armstrong Number\n",
            "76 is a Not Armstrong Number\n",
            "77 is a Not Armstrong Number\n",
            "78 is a Not Armstrong Number\n",
            "79 is a Not Armstrong Number\n",
            "80 is a Not Armstrong Number\n",
            "81 is a Not Armstrong Number\n",
            "82 is a Not Armstrong Number\n",
            "83 is a Not Armstrong Number\n",
            "84 is a Not Armstrong Number\n",
            "85 is a Not Armstrong Number\n",
            "86 is a Not Armstrong Number\n",
            "87 is a Not Armstrong Number\n",
            "88 is a Not Armstrong Number\n",
            "89 is a Not Armstrong Number\n",
            "90 is a Not Armstrong Number\n",
            "91 is a Not Armstrong Number\n",
            "92 is a Not Armstrong Number\n",
            "93 is a Not Armstrong Number\n",
            "94 is a Not Armstrong Number\n",
            "95 is a Not Armstrong Number\n",
            "96 is a Not Armstrong Number\n",
            "97 is a Not Armstrong Number\n",
            "98 is a Not Armstrong Number\n",
            "99 is a Not Armstrong Number\n",
            "100 is a Not Armstrong Number\n"
          ]
        }
      ]
    },
    {
      "cell_type": "markdown",
      "source": [
        "# 6. Write a Python Program to Find the Sum of Natural Numbers?"
      ],
      "metadata": {
        "id": "pNV7grSGI8O-"
      }
    },
    {
      "cell_type": "code",
      "source": [
        "def sumOfNaturalNumbers(num):\n",
        "  '''\n",
        "  This function takes integer as an input and returns sum of n natural numbers.\n",
        "  '''\n",
        "  sum = num*((num+1)/2)\n",
        "  print('Sum of {0} natural numbers is {1}'.format(num, sum))"
      ],
      "metadata": {
        "id": "IkDNqFTMI_3b"
      },
      "execution_count": null,
      "outputs": []
    },
    {
      "cell_type": "code",
      "source": [
        "num = int(input('Enter nth number: '))\n",
        "sumOfNaturalNumbers(num)"
      ],
      "metadata": {
        "colab": {
          "base_uri": "https://localhost:8080/"
        },
        "id": "QbT9d_q-jcB9",
        "outputId": "c7616c1a-f558-4105-cb64-e4cabb982302"
      },
      "execution_count": null,
      "outputs": [
        {
          "output_type": "stream",
          "name": "stdout",
          "text": [
            "Enter nth number: 10\n",
            "Sum of 10 natural numbers is 55.0\n"
          ]
        }
      ]
    },
    {
      "cell_type": "code",
      "source": [
        "num = int(input('Enter nth number: '))\n",
        "sumOfNaturalNumbers(num)"
      ],
      "metadata": {
        "colab": {
          "base_uri": "https://localhost:8080/"
        },
        "id": "zoWH7sMZUNrl",
        "outputId": "23306bbe-ecff-45e3-e64d-b6039df0b843"
      },
      "execution_count": null,
      "outputs": [
        {
          "output_type": "stream",
          "name": "stdout",
          "text": [
            "Enter nth number: 100\n",
            "Sum of 100 natural numbers is 5050.0\n"
          ]
        }
      ]
    }
  ]
}