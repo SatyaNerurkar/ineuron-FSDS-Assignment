{
  "nbformat": 4,
  "nbformat_minor": 0,
  "metadata": {
    "colab": {
      "provenance": []
    },
    "kernelspec": {
      "name": "python3",
      "display_name": "Python 3"
    },
    "language_info": {
      "name": "python"
    }
  },
  "cells": [
    {
      "cell_type": "markdown",
      "source": [
        "# Python programming assignment 05"
      ],
      "metadata": {
        "id": "MsT5ES9M5-15"
      }
    },
    {
      "cell_type": "markdown",
      "source": [
        "Assignment can be found at: [Assignment](https://drive.google.com/file/d/1vjQLzHf3Cyr_pGAys0icHA_NcnHHlQ3e/view)"
      ],
      "metadata": {
        "id": "9AVsF89neTCX"
      }
    },
    {
      "cell_type": "markdown",
      "source": [
        "# 1. Write a Python Program to Find LCM?"
      ],
      "metadata": {
        "id": "QICY02-AehHQ"
      }
    },
    {
      "cell_type": "code",
      "execution_count": null,
      "metadata": {
        "id": "1q_jMOBDeQAs"
      },
      "outputs": [],
      "source": [
        "def findTheLcm(num1,num2):\n",
        "    if num1 > num2:\n",
        "        greater = num1\n",
        "    else:\n",
        "        greater = num2\n",
        "    while True:\n",
        "        if((greater%num1 == 0) and (greater%num2 == 0)):\n",
        "            lcm = greater\n",
        "            break\n",
        "        else:\n",
        "            greater +=1\n",
        "    print('The LCM of {} and{} is {}'.format(num1, num2, lcm))"
      ]
    },
    {
      "cell_type": "code",
      "source": [
        "findTheLcm(54,24)"
      ],
      "metadata": {
        "colab": {
          "base_uri": "https://localhost:8080/"
        },
        "id": "eSHe8hv8EE8N",
        "outputId": "bfde5950-a0d1-45e4-a5d3-eecfce8162b4"
      },
      "execution_count": null,
      "outputs": [
        {
          "output_type": "stream",
          "name": "stdout",
          "text": [
            "The LCM of 54 and24 is 216\n"
          ]
        }
      ]
    },
    {
      "cell_type": "markdown",
      "source": [
        "# 2. Write a Python Program to Find HCF?"
      ],
      "metadata": {
        "id": "5rwG32uremdF"
      }
    },
    {
      "cell_type": "code",
      "source": [
        "def hcf(x, y):\n",
        "    \"\"\"This function takes in two integers and returns the highest common factor (HCF)\"\"\"\n",
        "    if x > y:\n",
        "        smaller = y\n",
        "    else:\n",
        "        smaller = x\n",
        "    for i in range(1, smaller+1):\n",
        "        if((x % i == 0) and (y % i == 0)):\n",
        "            hcf = i\n",
        "    return hcf"
      ],
      "metadata": {
        "id": "CqVp4i2Deuhi"
      },
      "execution_count": 1,
      "outputs": []
    },
    {
      "cell_type": "code",
      "source": [
        "num1 = int(input(\"Enter first number: \"))\n",
        "num2 = int(input(\"Enter second number: \"))\n",
        "\n",
        "print(\"The HCF of\", num1,\"and\", num2,\"is\", hcf(num1, num2))"
      ],
      "metadata": {
        "colab": {
          "base_uri": "https://localhost:8080/"
        },
        "id": "3ZCftYkQ7DGe",
        "outputId": "1d8d8a7b-31ca-4574-c2fd-41b8904aa3ee"
      },
      "execution_count": 2,
      "outputs": [
        {
          "output_type": "stream",
          "name": "stdout",
          "text": [
            "Enter first number: 12\n",
            "Enter second number: 19\n",
            "The HCF of 12 and 19 is 1\n"
          ]
        }
      ]
    },
    {
      "cell_type": "markdown",
      "source": [
        "# 3. Write a Python Program to Convert Decimal to Binary, Octal and Hexadecimal?"
      ],
      "metadata": {
        "id": "iW3anXuGevIh"
      }
    },
    {
      "cell_type": "code",
      "source": [
        "dec = int(input(\"Enter a decimal number: \"))\n",
        "\n",
        "print(\"The binary equivalent of\", dec, \"is\", bin(dec))\n",
        "print(\"The octal equivalent of\", dec, \"is\", oct(dec))\n",
        "print(\"The hexadecimal equivalent of\", dec, \"is\", hex(dec))"
      ],
      "metadata": {
        "id": "mkOvXjiSezes",
        "colab": {
          "base_uri": "https://localhost:8080/"
        },
        "outputId": "7f11f390-e7f1-47d1-f8ff-180fb6a8557b"
      },
      "execution_count": 3,
      "outputs": [
        {
          "output_type": "stream",
          "name": "stdout",
          "text": [
            "Enter a decimal number: 100\n",
            "The binary equivalent of 100 is 0b1100100\n",
            "The octal equivalent of 100 is 0o144\n",
            "The hexadecimal equivalent of 100 is 0x64\n"
          ]
        }
      ]
    },
    {
      "cell_type": "markdown",
      "source": [
        "# 4. Write a Python Program To Find ASCII value of a character?"
      ],
      "metadata": {
        "id": "hhA_r-FLez_I"
      }
    },
    {
      "cell_type": "code",
      "source": [
        "char = input(\"Enter a character: \")\n",
        "\n",
        "print(\"The ASCII value of\", char, \"is\", ord(char))"
      ],
      "metadata": {
        "id": "tcbxkHeafIpd",
        "colab": {
          "base_uri": "https://localhost:8080/"
        },
        "outputId": "c5fa761a-ed8f-4a2f-8d8d-5e127a9dba92"
      },
      "execution_count": 4,
      "outputs": [
        {
          "output_type": "stream",
          "name": "stdout",
          "text": [
            "Enter a character: q\n",
            "The ASCII value of q is 113\n"
          ]
        }
      ]
    },
    {
      "cell_type": "markdown",
      "source": [
        "# 5. Write a Python Program to Make a Simple Calculator with 4 basic mathematical operations?"
      ],
      "metadata": {
        "id": "b9Ce2hyRfSGV"
      }
    },
    {
      "cell_type": "code",
      "source": [
        "def add():\n",
        "  '''\n",
        "  This function accepts 2 numbers and returns addition of those numbers.\n",
        "  '''\n",
        "  var1 = int(input('Enter 1st number: '))\n",
        "  var2 = int(input('Enter 2nd number: '))\n",
        "  print(\"Addition of {} and {} is {}\".format(var1, var2, var1+var2))\n",
        "\n",
        "def sub():\n",
        "  '''\n",
        "  This function accepts 2 numbers and returns subtraction of those numbers.\n",
        "  '''\n",
        "  var1 = int(input('Enter 1st number: '))\n",
        "  var2 = int(input('Enter 2nd number: '))\n",
        "  print(\"Subtraction of {} and {} is {}\".format(var1, var2, var1-var2))\n",
        "\n",
        "def mul():\n",
        "  '''\n",
        "  This function accepts 2 numbers and returns multiplication of those numbers.\n",
        "  '''\n",
        "  var1 = int(input('Enter 1st number: '))\n",
        "  var2 = int(input('Enter 2nd number: '))\n",
        "  print(\"Multiplication of {} and {} is {}\".format(var1, var2, var1*var2))\n",
        "\n",
        "def div():\n",
        "  '''\n",
        "  This function accepts 2 numbers and returns division of those numbers.\n",
        "  '''\n",
        "  var1 = int(input('Enter 1st number: '))\n",
        "  var2 = int(input('Enter 2nd number: '))\n",
        "  try:\n",
        "    print(\"Division of {} and {} is {}\".format(var1, var2, var1/var2))\n",
        "  except Exception as e:\n",
        "    print('Expecting a non-zero input\\n')\n",
        "    print(e)\n",
        "\n",
        "def calculator():\n",
        "  print('Select a Arithmetic Operation: \\\n",
        "        \\n1. Addition(+)\\\n",
        "        \\n2. Division(-)\\\n",
        "        \\n2. Multiplication(*)\\\n",
        "        \\n4. Division(/)\\\n",
        "        \\n3. Stop(0)\\n')\n",
        "  while True:\n",
        "    operation = input(\"Enter any one character from above list to perfrom it: \")\n",
        "    if operation == '0':\n",
        "      print(\"Ending execution...\")\n",
        "      break\n",
        "    elif operation == '+':\n",
        "      add()\n",
        "    elif operation == '-':\n",
        "      sub()\n",
        "    elif operation == '*':\n",
        "      mul()\n",
        "    elif operation == '/':\n",
        "      div()\n",
        "    else:\n",
        "      print(\"Invalid operation\")"
      ],
      "metadata": {
        "id": "Zw6gx0TBfXlX"
      },
      "execution_count": null,
      "outputs": []
    },
    {
      "cell_type": "code",
      "source": [
        "calculator()"
      ],
      "metadata": {
        "colab": {
          "base_uri": "https://localhost:8080/",
          "height": 762
        },
        "id": "JiBAMyTC0ITM",
        "outputId": "4035ef2a-f4af-4001-fe7e-1116ada79eea"
      },
      "execution_count": null,
      "outputs": [
        {
          "name": "stdout",
          "output_type": "stream",
          "text": [
            "Select a Arithmetic Operation:         \n",
            "1. Addition(+)        \n",
            "2. Division(-)        \n",
            "2. Multiplication(*)        \n",
            "4. Division(/)        \n",
            "3. Stop(0)\n",
            "\n",
            "Enter any one character from above list to perfrom it: +\n",
            "Enter 1st number: 10\n",
            "Enter 2nd number: 20\n",
            "Addition of 10 and 20 is 30\n",
            "Enter any one character from above list to perfrom it: -\n",
            "Enter 1st number: 20\n",
            "Enter 2nd number: 10\n",
            "Subtraction of 20 and 10 is 10\n",
            "Enter any one character from above list to perfrom it: *\n",
            "Enter 1st number: 10\n",
            "Enter 2nd number: 10\n",
            "Multiplication of 10 and 10 is 100\n",
            "Enter any one character from above list to perfrom it: /\n",
            "Enter 1st number: 10\n",
            "Enter 2nd number: 2\n",
            "Division of 10 and 2 is 5.0\n",
            "Enter any one character from above list to perfrom it: /\n",
            "Enter 1st number: 10\n",
            "Enter 2nd number: \n"
          ]
        },
        {
          "output_type": "error",
          "ename": "ValueError",
          "evalue": "ignored",
          "traceback": [
            "\u001b[0;31m---------------------------------------------------------------------------\u001b[0m",
            "\u001b[0;31mValueError\u001b[0m                                Traceback (most recent call last)",
            "\u001b[0;32m<ipython-input-6-0c616def4ff3>\u001b[0m in \u001b[0;36m<module>\u001b[0;34m()\u001b[0m\n\u001b[0;32m----> 1\u001b[0;31m \u001b[0mcalculator\u001b[0m\u001b[0;34m(\u001b[0m\u001b[0;34m)\u001b[0m\u001b[0;34m\u001b[0m\u001b[0;34m\u001b[0m\u001b[0m\n\u001b[0m",
            "\u001b[0;32m<ipython-input-5-93d8d0e61881>\u001b[0m in \u001b[0;36mcalculator\u001b[0;34m()\u001b[0m\n\u001b[1;32m     49\u001b[0m       \u001b[0mmul\u001b[0m\u001b[0;34m(\u001b[0m\u001b[0;34m)\u001b[0m\u001b[0;34m\u001b[0m\u001b[0;34m\u001b[0m\u001b[0m\n\u001b[1;32m     50\u001b[0m     \u001b[0;32melif\u001b[0m \u001b[0moperation\u001b[0m \u001b[0;34m==\u001b[0m \u001b[0;34m'/'\u001b[0m\u001b[0;34m:\u001b[0m\u001b[0;34m\u001b[0m\u001b[0;34m\u001b[0m\u001b[0m\n\u001b[0;32m---> 51\u001b[0;31m       \u001b[0mdiv\u001b[0m\u001b[0;34m(\u001b[0m\u001b[0;34m)\u001b[0m\u001b[0;34m\u001b[0m\u001b[0;34m\u001b[0m\u001b[0m\n\u001b[0m\u001b[1;32m     52\u001b[0m     \u001b[0;32melse\u001b[0m\u001b[0;34m:\u001b[0m\u001b[0;34m\u001b[0m\u001b[0;34m\u001b[0m\u001b[0m\n\u001b[1;32m     53\u001b[0m       \u001b[0mprint\u001b[0m\u001b[0;34m(\u001b[0m\u001b[0;34m\"Invalid operation\"\u001b[0m\u001b[0;34m)\u001b[0m\u001b[0;34m\u001b[0m\u001b[0;34m\u001b[0m\u001b[0m\n",
            "\u001b[0;32m<ipython-input-5-93d8d0e61881>\u001b[0m in \u001b[0;36mdiv\u001b[0;34m()\u001b[0m\n\u001b[1;32m     28\u001b[0m   '''\n\u001b[1;32m     29\u001b[0m   \u001b[0mvar1\u001b[0m \u001b[0;34m=\u001b[0m \u001b[0mint\u001b[0m\u001b[0;34m(\u001b[0m\u001b[0minput\u001b[0m\u001b[0;34m(\u001b[0m\u001b[0;34m'Enter 1st number: '\u001b[0m\u001b[0;34m)\u001b[0m\u001b[0;34m)\u001b[0m\u001b[0;34m\u001b[0m\u001b[0;34m\u001b[0m\u001b[0m\n\u001b[0;32m---> 30\u001b[0;31m   \u001b[0mvar2\u001b[0m \u001b[0;34m=\u001b[0m \u001b[0mint\u001b[0m\u001b[0;34m(\u001b[0m\u001b[0minput\u001b[0m\u001b[0;34m(\u001b[0m\u001b[0;34m'Enter 2nd number: '\u001b[0m\u001b[0;34m)\u001b[0m\u001b[0;34m)\u001b[0m\u001b[0;34m\u001b[0m\u001b[0;34m\u001b[0m\u001b[0m\n\u001b[0m\u001b[1;32m     31\u001b[0m   \u001b[0;32mtry\u001b[0m\u001b[0;34m:\u001b[0m\u001b[0;34m\u001b[0m\u001b[0;34m\u001b[0m\u001b[0m\n\u001b[1;32m     32\u001b[0m     \u001b[0mprint\u001b[0m\u001b[0;34m(\u001b[0m\u001b[0;34m\"Division of {} and {} is {}\"\u001b[0m\u001b[0;34m.\u001b[0m\u001b[0mformat\u001b[0m\u001b[0;34m(\u001b[0m\u001b[0mvar1\u001b[0m\u001b[0;34m,\u001b[0m \u001b[0mvar2\u001b[0m\u001b[0;34m,\u001b[0m \u001b[0mvar1\u001b[0m\u001b[0;34m/\u001b[0m\u001b[0mvar2\u001b[0m\u001b[0;34m)\u001b[0m\u001b[0;34m)\u001b[0m\u001b[0;34m\u001b[0m\u001b[0;34m\u001b[0m\u001b[0m\n",
            "\u001b[0;31mValueError\u001b[0m: invalid literal for int() with base 10: ''"
          ]
        }
      ]
    },
    {
      "cell_type": "code",
      "source": [],
      "metadata": {
        "id": "suWcrwx00Ktf"
      },
      "execution_count": null,
      "outputs": []
    }
  ]
}