{
  "nbformat": 4,
  "nbformat_minor": 0,
  "metadata": {
    "colab": {
      "provenance": []
    },
    "kernelspec": {
      "name": "python3",
      "display_name": "Python 3"
    },
    "language_info": {
      "name": "python"
    }
  },
  "cells": [
    {
      "cell_type": "markdown",
      "source": [
        "#Python programming assignment 13"
      ],
      "metadata": {
        "id": "hIzDvuDnV6R4"
      }
    },
    {
      "cell_type": "markdown",
      "source": [
        "Assignment can be found at [Assignment](https://drive.google.com/file/d/1JS8JSCU--7YcoTZcvYPpn-hR2--sFBBC/view)"
      ],
      "metadata": {
        "id": "zWPN60bsV6HH"
      }
    },
    {
      "cell_type": "markdown",
      "source": [
        "Write a program that calculates and prints the value according to the given formula:\n",
        "\n",
        "`Q = Square root of [(2 * C * D)/H]`\n",
        "\n",
        "Following are the fixed values of C and H:\n",
        "C is 50. H is 30.\n",
        "D is the variable whose values should be input to your program in a comma-separated sequence.<br>\n",
        "Example:<br>\n",
        "Let us assume the following comma separated input sequence is given to the program:<br>\n",
        "100,150,180<br>\n",
        "The output of the program should be:\n",
        "18,22,24"
      ],
      "metadata": {
        "id": "poIzrSHkV54_"
      }
    },
    {
      "cell_type": "code",
      "execution_count": 1,
      "metadata": {
        "id": "VBwpTlG2V4-i"
      },
      "outputs": [],
      "source": [
        "import math\n",
        "\n",
        "def calculate_value(D):\n",
        "    C = 50\n",
        "    H = 30\n",
        "    Q = list(map(lambda x: round(math.sqrt((2 * C * x) / H)), D))\n",
        "    return \",\".join(map(str, Q))"
      ]
    },
    {
      "cell_type": "code",
      "source": [
        "D = [100, 150, 180]\n",
        "print(calculate_value(D))"
      ],
      "metadata": {
        "colab": {
          "base_uri": "https://localhost:8080/"
        },
        "id": "7Pt9pP4kWi4-",
        "outputId": "8ba15809-e614-4c1c-ac71-e148828a1bee"
      },
      "execution_count": 2,
      "outputs": [
        {
          "output_type": "stream",
          "name": "stdout",
          "text": [
            "18,22,24\n"
          ]
        }
      ]
    },
    {
      "cell_type": "markdown",
      "source": [
        "Write a program which takes 2 digits, X,Y as input and generates a 2-dimensional array.<br> \n",
        "The element value in the i-th row and j-th column of the array should be i*j.<br>\n",
        "Note: i=0,1.., X-1; j=0,1,¡Y-1.<br>\n",
        "Example<br>\n",
        "Suppose the following inputs are given to the program:<br>\n",
        "3,5<br>\n",
        "Then, the output of the program should be:<br>\n",
        "[[0, 0, 0, 0, 0], [0, 1, 2, 3, 4], [0, 2, 4, 6, 8]]"
      ],
      "metadata": {
        "id": "KSoa0vPNXGns"
      }
    },
    {
      "cell_type": "code",
      "source": [
        "def generate_array(X, Y):\n",
        "    return [[i*j for j in range(Y)] for i in range(X)]\n",
        "\n",
        "X = 3\n",
        "Y = 5\n",
        "print(generate_array(X, Y))"
      ],
      "metadata": {
        "colab": {
          "base_uri": "https://localhost:8080/"
        },
        "id": "OGLqf2igWjKY",
        "outputId": "1989adf3-5240-46b0-982f-4ed87e4b861d"
      },
      "execution_count": 3,
      "outputs": [
        {
          "output_type": "stream",
          "name": "stdout",
          "text": [
            "[[0, 0, 0, 0, 0], [0, 1, 2, 3, 4], [0, 2, 4, 6, 8]]\n"
          ]
        }
      ]
    },
    {
      "cell_type": "markdown",
      "source": [
        "Write a program that accepts a comma separated sequence of words as input and prints the words in a comma-separated sequence after sorting them alphabetically.<br>\n",
        "Suppose the following input is supplied to the program:<br>\n",
        "`without,hello,bag,world`<br>\n",
        "Then, the output should be:<br>\n",
        "`bag,hello,without,world`"
      ],
      "metadata": {
        "id": "EOQ1uLPgXrBV"
      }
    },
    {
      "cell_type": "code",
      "source": [
        "words = input(\"Enter a comma-separated sequence of words: \")\n",
        "\n",
        "# Split the input string into a list of words\n",
        "word_list = words.split(\",\")\n",
        "\n",
        "# Sort the list of words alphabetically\n",
        "word_list.sort()\n",
        "\n",
        "# Print the sorted list of words as a comma-separated sequence\n",
        "print(\",\".join(word_list))"
      ],
      "metadata": {
        "colab": {
          "base_uri": "https://localhost:8080/"
        },
        "id": "H14-iZ7SXh5l",
        "outputId": "9ce1783e-e374-47d6-a853-e11fc71f48d9"
      },
      "execution_count": 4,
      "outputs": [
        {
          "output_type": "stream",
          "name": "stdout",
          "text": [
            "Enter a comma-separated sequence of words: without,hello,bag,world\n",
            "bag,hello,without,world\n"
          ]
        }
      ]
    },
    {
      "cell_type": "markdown",
      "source": [
        "Write a program that accepts a sequence of whitespace separated words as input and prints the words after removing all duplicate words and sorting them alphanumerically.<br>\n",
        "Suppose the following input is supplied to the program:<br>\n",
        "`hello world and practice makes perfect and hello world again`<br>\n",
        "Then, the output should be:<br>\n",
        "`again and hello makes perfect practice world`"
      ],
      "metadata": {
        "id": "HYf_Ph1WYcz_"
      }
    },
    {
      "cell_type": "code",
      "source": [
        "words = input(\"Enter a sequence of whitespace-separated words: \")\n",
        "\n",
        "# Split the input string into a list of words\n",
        "word_list = words.split()\n",
        "\n",
        "# Remove duplicate words\n",
        "word_list = list(set(word_list))\n",
        "\n",
        "# Sort the list of words alphanumerically\n",
        "word_list.sort()\n",
        "\n",
        "# Print the sorted list of words\n",
        "print(\" \".join(word_list))"
      ],
      "metadata": {
        "colab": {
          "base_uri": "https://localhost:8080/"
        },
        "id": "mRuqkaXSYlZi",
        "outputId": "ff8dae25-ebb1-46a0-81dc-ed8dc4a77501"
      },
      "execution_count": 5,
      "outputs": [
        {
          "output_type": "stream",
          "name": "stdout",
          "text": [
            "Enter a sequence of whitespace-separated words: hello world and practice makes perfect and hello world again\n",
            "again and hello makes perfect practice world\n"
          ]
        }
      ]
    },
    {
      "cell_type": "markdown",
      "source": [
        "Write a program that accepts a sentence and calculate the number of letters and digits.<br>\n",
        "Suppose the following input is supplied to the program:<br>\n",
        "`hello world! 123`<br>\n",
        "Then, the output should be:<br>\n",
        "`LETTERS 10`\n",
        "\n",
        "`DIGITS 3`"
      ],
      "metadata": {
        "id": "QsTsLGpdY_Mt"
      }
    },
    {
      "cell_type": "code",
      "source": [
        "sentence = input(\"Enter a sentence: \")\n",
        "\n",
        "letters = 0\n",
        "digits = 0\n",
        "\n",
        "for char in sentence:\n",
        "    if char.isalpha():\n",
        "        letters += 1\n",
        "    elif char.isdigit():\n",
        "        digits += 1\n",
        "print(\"LETTERS\", letters)\n",
        "print(\"DIGITS\", digits)"
      ],
      "metadata": {
        "colab": {
          "base_uri": "https://localhost:8080/"
        },
        "id": "2edSHuVRYvN-",
        "outputId": "a7ca258d-3018-4eae-b03c-92092a6b1009"
      },
      "execution_count": 9,
      "outputs": [
        {
          "output_type": "stream",
          "name": "stdout",
          "text": [
            "Enter a sentence: India is my country\n",
            "LETTERS 16\n",
            "DIGITS 0\n"
          ]
        }
      ]
    },
    {
      "cell_type": "markdown",
      "source": [
        "A website requires the users to input username and password to register. Write a program to check the validity of password input by users.<br>\n",
        "Following are the criteria for checking the password:<br>\n",
        "1. At least 1 letter between [a-z]\n",
        "2. At least 1 number between [0-9]\n",
        "1. At least 1 letter between [A-Z]\n",
        "3. At least 1 character from [$#@]\n",
        "4. Minimum length of transaction password: 6\n",
        "5. Maximum length of transaction password: 12<br>\n",
        "\n",
        "Your program should accept a sequence of comma separated passwords and will check them according to the above criteria. Passwords that match the criteria are to be printed, each separated by a comma.<br>\n",
        "Example<br>\n",
        "If the following passwords are given as input to the program:<br>\n",
        "`ABd1234@1,a F1#,2w3E*,2We3345`<br>\n",
        "Then, the output of the program should be:<br>\n",
        "`ABd1234@1`"
      ],
      "metadata": {
        "id": "2iwOIp2KaXEJ"
      }
    },
    {
      "cell_type": "code",
      "source": [
        "import re\n",
        "\n",
        "passwords = input(\"Enter a list of passwords separated by commas: \").split(',')\n",
        "\n",
        "valid_passwords = []\n",
        "\n",
        "for password in passwords:\n",
        "    if len(password) < 6 or len(password) > 12:\n",
        "        continue\n",
        "    if not re.search(\"[a-z]\", password):\n",
        "        continue\n",
        "    if not re.search(\"[A-Z]\", password):\n",
        "        continue\n",
        "    if not re.search(\"[0-9]\", password):\n",
        "        continue\n",
        "    if not re.search(\"[$#@]\", password):\n",
        "        continue\n",
        "    valid_passwords.append(password)\n",
        "\n",
        "print(\",\".join(valid_passwords))"
      ],
      "metadata": {
        "colab": {
          "base_uri": "https://localhost:8080/"
        },
        "id": "cBVaE16FZsf3",
        "outputId": "4482ad1d-9ff0-49fe-8d1f-3d5522d89e67"
      },
      "execution_count": 10,
      "outputs": [
        {
          "output_type": "stream",
          "name": "stdout",
          "text": [
            "Enter a list of passwords separated by commas: ABd1234@1,a F1#,2w3E*,2We3345\n",
            "ABd1234@1\n"
          ]
        }
      ]
    }
  ]
}