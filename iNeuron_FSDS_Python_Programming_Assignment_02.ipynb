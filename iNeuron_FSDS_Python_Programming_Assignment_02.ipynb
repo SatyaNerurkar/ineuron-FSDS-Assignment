{
  "nbformat": 4,
  "nbformat_minor": 0,
  "metadata": {
    "colab": {
      "provenance": [],
      "collapsed_sections": [
        "cKZ7DRTz193D"
      ]
    },
    "kernelspec": {
      "name": "python3",
      "display_name": "Python 3"
    },
    "language_info": {
      "name": "python"
    }
  },
  "cells": [
    {
      "cell_type": "markdown",
      "source": [
        "# Python programming assignment 02"
      ],
      "metadata": {
        "id": "cKZ7DRTz193D"
      }
    },
    {
      "cell_type": "markdown",
      "source": [
        "Assignment can be found at: [Assignment](https://drive.google.com/file/d/1BNWLsiLTRTpxod2uctrPWRjEiMIk9PM2/view)"
      ],
      "metadata": {
        "id": "-C7xTqFLkqJZ"
      }
    },
    {
      "cell_type": "markdown",
      "source": [
        "# 1. Write a Python program to convert kilometers to miles?"
      ],
      "metadata": {
        "id": "syi-2JQ5kzxe"
      }
    },
    {
      "cell_type": "code",
      "execution_count": null,
      "metadata": {
        "id": "kraAZJlyklzv"
      },
      "outputs": [],
      "source": [
        "def kmtoMiles():\n",
        "  '''\n",
        "  This function takes distance in KM and coverts it into miles.\n",
        "  '''\n",
        "  KM = float(input(\"Enter distance in Kilometers: \"))\n",
        "  print('{0} KM is quivalent to {1} miles.'.format(KM, KM * 0.62137))"
      ]
    },
    {
      "cell_type": "code",
      "source": [
        "kmtoMiles()"
      ],
      "metadata": {
        "colab": {
          "base_uri": "https://localhost:8080/"
        },
        "id": "s-rPZlmKkw3P",
        "outputId": "60c62205-269d-4194-e0dc-6cb54111152d"
      },
      "execution_count": null,
      "outputs": [
        {
          "output_type": "stream",
          "name": "stdout",
          "text": [
            "Enter distance in Kilometers: 100\n",
            "100.0 KM is quivalent to 62.137 miles.\n"
          ]
        }
      ]
    },
    {
      "cell_type": "markdown",
      "source": [
        "# 2. Write a Python program to convert Celsius to Fahrenheit?"
      ],
      "metadata": {
        "id": "C4FUfrxAlqDi"
      }
    },
    {
      "cell_type": "code",
      "source": [
        "def celToFar():\n",
        "  '''\n",
        "  This function takes temperature in celsius and converts it into Farenheit.\n",
        "  '''\n",
        "  cel = float(input(\"Enter temperature in celsius: \"))\n",
        "  print('{0}°C is quivalent to {1}°F.'.format(cel, (cel * 1.8) + 32))"
      ],
      "metadata": {
        "id": "Be3iM477la0C"
      },
      "execution_count": null,
      "outputs": []
    },
    {
      "cell_type": "code",
      "source": [
        "celToFar()"
      ],
      "metadata": {
        "colab": {
          "base_uri": "https://localhost:8080/"
        },
        "id": "xIEODG3zlsId",
        "outputId": "e8f2a75d-191f-4c85-c1e2-f4886f84a64a"
      },
      "execution_count": null,
      "outputs": [
        {
          "output_type": "stream",
          "name": "stdout",
          "text": [
            "Enter temperature in celsius: 100.5\n",
            "100.5°C is quivalent to 212.9°F.\n"
          ]
        }
      ]
    },
    {
      "cell_type": "markdown",
      "source": [
        "# 3. Write a Python program to display calendar?"
      ],
      "metadata": {
        "id": "ZPQisrBnnBnx"
      }
    },
    {
      "cell_type": "code",
      "source": [
        "import calendar\n",
        "\n",
        "def getCalender(year):\n",
        "  '''\n",
        "  This function takes year as paramter and displays calender for that year\n",
        "  '''\n",
        "  print(calendar.calendar(year))"
      ],
      "metadata": {
        "id": "3F1Na5Szm8Zm"
      },
      "execution_count": null,
      "outputs": []
    },
    {
      "cell_type": "code",
      "source": [
        "year = int(input(\"Enter calender year: \"))\n",
        "getCalender(year)"
      ],
      "metadata": {
        "colab": {
          "base_uri": "https://localhost:8080/"
        },
        "id": "My5lFPW9CxeA",
        "outputId": "ec87fef0-6f75-4160-f0d4-280a0e90b75c"
      },
      "execution_count": null,
      "outputs": [
        {
          "output_type": "stream",
          "name": "stdout",
          "text": [
            "Enter calender year: 2022\n",
            "                                  2022\n",
            "\n",
            "      January                   February                   March\n",
            "Mo Tu We Th Fr Sa Su      Mo Tu We Th Fr Sa Su      Mo Tu We Th Fr Sa Su\n",
            "                1  2          1  2  3  4  5  6          1  2  3  4  5  6\n",
            " 3  4  5  6  7  8  9       7  8  9 10 11 12 13       7  8  9 10 11 12 13\n",
            "10 11 12 13 14 15 16      14 15 16 17 18 19 20      14 15 16 17 18 19 20\n",
            "17 18 19 20 21 22 23      21 22 23 24 25 26 27      21 22 23 24 25 26 27\n",
            "24 25 26 27 28 29 30      28                        28 29 30 31\n",
            "31\n",
            "\n",
            "       April                      May                       June\n",
            "Mo Tu We Th Fr Sa Su      Mo Tu We Th Fr Sa Su      Mo Tu We Th Fr Sa Su\n",
            "             1  2  3                         1             1  2  3  4  5\n",
            " 4  5  6  7  8  9 10       2  3  4  5  6  7  8       6  7  8  9 10 11 12\n",
            "11 12 13 14 15 16 17       9 10 11 12 13 14 15      13 14 15 16 17 18 19\n",
            "18 19 20 21 22 23 24      16 17 18 19 20 21 22      20 21 22 23 24 25 26\n",
            "25 26 27 28 29 30         23 24 25 26 27 28 29      27 28 29 30\n",
            "                          30 31\n",
            "\n",
            "        July                     August                  September\n",
            "Mo Tu We Th Fr Sa Su      Mo Tu We Th Fr Sa Su      Mo Tu We Th Fr Sa Su\n",
            "             1  2  3       1  2  3  4  5  6  7                1  2  3  4\n",
            " 4  5  6  7  8  9 10       8  9 10 11 12 13 14       5  6  7  8  9 10 11\n",
            "11 12 13 14 15 16 17      15 16 17 18 19 20 21      12 13 14 15 16 17 18\n",
            "18 19 20 21 22 23 24      22 23 24 25 26 27 28      19 20 21 22 23 24 25\n",
            "25 26 27 28 29 30 31      29 30 31                  26 27 28 29 30\n",
            "\n",
            "      October                   November                  December\n",
            "Mo Tu We Th Fr Sa Su      Mo Tu We Th Fr Sa Su      Mo Tu We Th Fr Sa Su\n",
            "                1  2          1  2  3  4  5  6                1  2  3  4\n",
            " 3  4  5  6  7  8  9       7  8  9 10 11 12 13       5  6  7  8  9 10 11\n",
            "10 11 12 13 14 15 16      14 15 16 17 18 19 20      12 13 14 15 16 17 18\n",
            "17 18 19 20 21 22 23      21 22 23 24 25 26 27      19 20 21 22 23 24 25\n",
            "24 25 26 27 28 29 30      28 29 30                  26 27 28 29 30 31\n",
            "31\n",
            "\n"
          ]
        }
      ]
    },
    {
      "cell_type": "markdown",
      "source": [
        "# 4. Write a Python program to solve quadratic equation?"
      ],
      "metadata": {
        "id": "rSl4oSQznqR-"
      }
    },
    {
      "cell_type": "code",
      "source": [
        "import cmath\n",
        "import math\n",
        "\n",
        "def quadarticEquationSolver(a,b,c):\n",
        "    '''\n",
        "    This function takes 3 parametres as co-efficiant of Quadratic equation and returns the root of that equation.\n",
        "    '''\n",
        "    # calculating discriminant using formula\n",
        "    discriminant = b * b - 4 * a * c\n",
        "    \n",
        "    if discriminant == 0:\n",
        "        roots = -b/2*a\n",
        "        print(\"Roots are Real: \",roots,roots)\n",
        "    elif discriminant > 0:\n",
        "        r1 = (-b - math.sqrt(discriminant))/(2 * a)\n",
        "        r2 = (-b + math.sqrt(discriminant))/(2 * a)\n",
        "        print(\"Roots are Real and different: \",r1,r2)\n",
        "    else:\n",
        "        r1 = (-b-cmath.sqrt(discriminant))/(2 * a)\n",
        "        r2 = (-b+cmath.sqrt(discriminant))/(2 * a)\n",
        "        print(\"Roots are Imaginary: \",r1,r2)"
      ],
      "metadata": {
        "id": "wY6nI69dnDU-"
      },
      "execution_count": null,
      "outputs": []
    },
    {
      "cell_type": "code",
      "source": [
        "a = int(input('Enter a value: '))\n",
        "b = int(input('Enter b value: '))\n",
        "c = int(input('Enter c value: '))\n",
        "\n",
        "quadarticEquationSolver(a,b,c)"
      ],
      "metadata": {
        "id": "6jcOL47knubZ",
        "colab": {
          "base_uri": "https://localhost:8080/"
        },
        "outputId": "195b5405-8050-4284-e3e9-7853f7d7e1c8"
      },
      "execution_count": null,
      "outputs": [
        {
          "output_type": "stream",
          "name": "stdout",
          "text": [
            "Enter a value: 10\n",
            "Enter b value: 5\n",
            "Enter c value: 1\n",
            "Roots are Imaginary:  (-0.25-0.19364916731037085j) (-0.25+0.19364916731037085j)\n"
          ]
        }
      ]
    },
    {
      "cell_type": "markdown",
      "source": [
        "# 5. Write a Python program to swap two variables without temp variable?"
      ],
      "metadata": {
        "id": "AlGWKCrdnwy1"
      }
    },
    {
      "cell_type": "code",
      "source": [
        "def swapValue():\n",
        "  '''\n",
        "  This function will take two inputs from users and swap their value.\n",
        "  '''\n",
        "  var1 = int(input('Enter 1st number: '))\n",
        "  var2 = int(input('Enter 2nd number: '))\n",
        "  print('Before Swapping 1st number: {}, 2nd number: {}'.format(var1,var2))\n",
        "  var1 = var1 + var2\n",
        "  var2 = var1 - var2\n",
        "  var1 = var1 - var2\n",
        "  print('After Swapping 1st number: {}, 2nd number: {}'.format(var1,var2))"
      ],
      "metadata": {
        "id": "UDVNHUW3nywL"
      },
      "execution_count": null,
      "outputs": []
    },
    {
      "cell_type": "code",
      "source": [
        "swapValue()"
      ],
      "metadata": {
        "colab": {
          "base_uri": "https://localhost:8080/"
        },
        "id": "NKr4wfiK1B3x",
        "outputId": "801bbb88-67ae-4035-b77e-2e712769b780"
      },
      "execution_count": null,
      "outputs": [
        {
          "output_type": "stream",
          "name": "stdout",
          "text": [
            "Enter 1st number: 10\n",
            "Enter 2nd number: 20\n",
            "Before Swapping 1st number: 10, 2nd number: 20\n",
            "After Swapping 1st number: 20, 2nd number: 10\n"
          ]
        }
      ]
    }
  ]
}