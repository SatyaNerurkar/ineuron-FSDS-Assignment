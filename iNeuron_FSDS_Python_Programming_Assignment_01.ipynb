{
  "nbformat": 4,
  "nbformat_minor": 0,
  "metadata": {
    "colab": {
      "name": "iNeuron_FSDS_Python_Programming_Assignment_01.ipynb",
      "provenance": [],
      "collapsed_sections": [
        "7ynhARSZyoxd"
      ]
    },
    "kernelspec": {
      "name": "python3",
      "display_name": "Python 3"
    },
    "language_info": {
      "name": "python"
    }
  },
  "cells": [
    {
      "cell_type": "markdown",
      "source": [
        "# Python programming assignment 01"
      ],
      "metadata": {
        "id": "7ynhARSZyoxd"
      }
    },
    {
      "cell_type": "markdown",
      "source": [
        "Assignment can be found at: [Assignment](https://drive.google.com/file/d/1ysyuWcppZ5VV8T-tnEZLgHtkFS_xj-u5/view)"
      ],
      "metadata": {
        "id": "aaovts9hlR9d"
      }
    },
    {
      "cell_type": "markdown",
      "source": [
        "# 1. Write a Python program to print &quot;Hello Python&quot;?"
      ],
      "metadata": {
        "id": "5iW1_EAXd3-B"
      }
    },
    {
      "cell_type": "code",
      "source": [
        "print(\"Hello Python\")"
      ],
      "metadata": {
        "colab": {
          "base_uri": "https://localhost:8080/"
        },
        "id": "MayPy3hTd7lm",
        "outputId": "aeada2ca-28a5-4ff3-a5bd-a2fa57b3d8e7"
      },
      "execution_count": null,
      "outputs": [
        {
          "output_type": "stream",
          "name": "stdout",
          "text": [
            "Hello Python\n"
          ]
        }
      ]
    },
    {
      "cell_type": "markdown",
      "source": [
        "# 2. Write a Python program to do arithmetical operations addition and division.?"
      ],
      "metadata": {
        "id": "EZF6r05WeDws"
      }
    },
    {
      "cell_type": "code",
      "source": [
        "def addition(var1, var2):\n",
        "  '''\n",
        "  This function will take 2 numerical inputs and return the addition of those numbers.\n",
        "  '''\n",
        "  print('Addition of {} and {} is {}'.format(var1, var2, var1 + var2))\n",
        "\n",
        "def division(var1, var2):\n",
        "  '''\n",
        "  This function will take 2 numerical inputs and return the division of those numbers.\n",
        "  '''\n",
        "  try:\n",
        "    print('{} divided by {} is: {}'.format(var1, var2, var1/var2))\n",
        "  except Exception as e:\n",
        "    print('Expecting a non-zero input\\n')\n",
        "    print(Exception)"
      ],
      "metadata": {
        "id": "M7RhflYAeCEO"
      },
      "execution_count": null,
      "outputs": []
    },
    {
      "cell_type": "code",
      "source": [
        "addition(10,5)"
      ],
      "metadata": {
        "colab": {
          "base_uri": "https://localhost:8080/"
        },
        "id": "gPHjBAuOeJpk",
        "outputId": "eb9e7f96-a7f5-45ff-975b-1d8b97ea5ef5"
      },
      "execution_count": null,
      "outputs": [
        {
          "output_type": "stream",
          "name": "stdout",
          "text": [
            "Addition of 10 and 5 is 15\n"
          ]
        }
      ]
    },
    {
      "cell_type": "code",
      "source": [
        "division(10,5)"
      ],
      "metadata": {
        "colab": {
          "base_uri": "https://localhost:8080/"
        },
        "id": "qv0qhhtVfnhp",
        "outputId": "3e332675-5fff-4ef4-94a6-95fce1ddfb14"
      },
      "execution_count": null,
      "outputs": [
        {
          "output_type": "stream",
          "name": "stdout",
          "text": [
            "10 divided by 5 is: 2.0\n"
          ]
        }
      ]
    },
    {
      "cell_type": "code",
      "source": [
        "division(10,0)"
      ],
      "metadata": {
        "colab": {
          "base_uri": "https://localhost:8080/"
        },
        "id": "5yZDdgchfqVa",
        "outputId": "d002b345-8c16-4282-a43f-1f1e1ed22370"
      },
      "execution_count": null,
      "outputs": [
        {
          "output_type": "stream",
          "name": "stdout",
          "text": [
            "Expecting a non-zero input\n",
            "\n",
            "<class 'Exception'>\n"
          ]
        }
      ]
    },
    {
      "cell_type": "markdown",
      "source": [
        "# 3. Write a Python program to find the area of a triangle?"
      ],
      "metadata": {
        "id": "D7pdCuz7f2Iv"
      }
    },
    {
      "cell_type": "code",
      "source": [
        "def areaTriangle(base, height):\n",
        "  '''\n",
        "  This function take length of base and height of a triangle and returns area of triangle.\n",
        "  '''\n",
        "  print('Area of triangle having base = {} and height = {} is: {}'.format(base, height, (base*height)/2))"
      ],
      "metadata": {
        "id": "N9bJD4a0f4Oe"
      },
      "execution_count": null,
      "outputs": []
    },
    {
      "cell_type": "code",
      "source": [
        "areaTriangle(10,20)"
      ],
      "metadata": {
        "colab": {
          "base_uri": "https://localhost:8080/"
        },
        "id": "1l4RiG1-gfue",
        "outputId": "056db83b-9f7d-4b7b-8acc-cb94bff42a6c"
      },
      "execution_count": null,
      "outputs": [
        {
          "output_type": "stream",
          "name": "stdout",
          "text": [
            "Area of triangle having base = 10 and height = 20 is: 100.0\n"
          ]
        }
      ]
    },
    {
      "cell_type": "markdown",
      "source": [
        "# 4. Write a Python program to swap two variables?"
      ],
      "metadata": {
        "id": "jqQkGshYgpkw"
      }
    },
    {
      "cell_type": "code",
      "source": [
        "def swapValue(var1,var2):\n",
        "  '''\n",
        "  This function will take two inputs from users and swap their value.\n",
        "  '''\n",
        "  var1 = var1 + var2\n",
        "  var2 = var1 - var2\n",
        "  var1 = var1 - var2\n",
        "  return var1, var2"
      ],
      "metadata": {
        "id": "Ncz5A61Bgj2X"
      },
      "execution_count": null,
      "outputs": []
    },
    {
      "cell_type": "code",
      "source": [
        "swapValue(100,2000)"
      ],
      "metadata": {
        "colab": {
          "base_uri": "https://localhost:8080/"
        },
        "id": "C1hT6yqDjuwK",
        "outputId": "56b586b5-f394-4997-bc79-14e7c8889ad2"
      },
      "execution_count": null,
      "outputs": [
        {
          "output_type": "execute_result",
          "data": {
            "text/plain": [
              "(2000, 100)"
            ]
          },
          "metadata": {},
          "execution_count": 34
        }
      ]
    },
    {
      "cell_type": "markdown",
      "source": [
        "# 5. Write a Python program to generate a random number?"
      ],
      "metadata": {
        "id": "gsYMx5yLkOrq"
      }
    },
    {
      "cell_type": "code",
      "source": [
        "from random import randint\n",
        "\n",
        "def randomNumbergenerator(start=0, end=1000):\n",
        "    print('Random number is ',randint(start,end))"
      ],
      "metadata": {
        "id": "512IwRuMgssJ"
      },
      "execution_count": null,
      "outputs": []
    },
    {
      "cell_type": "code",
      "source": [
        "# Generating random numbers without arguments    \n",
        "randomNumbergenerator()"
      ],
      "metadata": {
        "id": "s43gyRe_jAiy",
        "colab": {
          "base_uri": "https://localhost:8080/"
        },
        "outputId": "480c5595-78e8-40e7-a1c7-7c39482ca836"
      },
      "execution_count": null,
      "outputs": [
        {
          "output_type": "stream",
          "name": "stdout",
          "text": [
            "Random number is  214\n"
          ]
        }
      ]
    },
    {
      "cell_type": "code",
      "source": [
        "# Generating random numbers with arguments    \n",
        "randomNumbergenerator(0,100)"
      ],
      "metadata": {
        "id": "HNFr3ao7i_kW",
        "colab": {
          "base_uri": "https://localhost:8080/"
        },
        "outputId": "fceb6d17-3846-457e-8603-4a5855783af6"
      },
      "execution_count": null,
      "outputs": [
        {
          "output_type": "stream",
          "name": "stdout",
          "text": [
            "Random number is  51\n"
          ]
        }
      ]
    }
  ]
}