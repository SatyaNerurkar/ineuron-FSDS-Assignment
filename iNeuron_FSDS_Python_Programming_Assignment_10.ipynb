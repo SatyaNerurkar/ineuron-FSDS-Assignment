{
  "nbformat": 4,
  "nbformat_minor": 0,
  "metadata": {
    "colab": {
      "provenance": []
    },
    "kernelspec": {
      "name": "python3",
      "display_name": "Python 3"
    },
    "language_info": {
      "name": "python"
    }
  },
  "cells": [
    {
      "cell_type": "markdown",
      "source": [
        "#Python programming assignment 10"
      ],
      "metadata": {
        "id": "myVkRCflDTBA"
      }
    },
    {
      "cell_type": "markdown",
      "source": [
        "Assignmrnt can be found at: [Assignment](https://drive.google.com/file/d/10ASPbmmQ86ZM78c5FjTHIhIJDwMZRHkE/view)"
      ],
      "metadata": {
        "id": "QmDzFZtzDSzb"
      }
    },
    {
      "cell_type": "markdown",
      "source": [
        "#1. Write a Python program to find sum of elements in list?"
      ],
      "metadata": {
        "id": "UV5oW7eNDSwH"
      }
    },
    {
      "cell_type": "code",
      "execution_count": null,
      "metadata": {
        "id": "q5G7kwkPAGCH"
      },
      "outputs": [],
      "source": [
        "def sum_list(lst):\n",
        "    # Initialize a variable to store the sum\n",
        "    sum = 0\n",
        "    # Iterate through the elements of the list\n",
        "    for i in lst:\n",
        "        # Add the element to the sum\n",
        "        sum += i\n",
        "    return sum"
      ]
    },
    {
      "cell_type": "code",
      "source": [
        "lst = [1, 2, 3, 4, 5]\n",
        "result = sum_list(lst)\n",
        "print(result)"
      ],
      "metadata": {
        "colab": {
          "base_uri": "https://localhost:8080/"
        },
        "id": "RXkT6-rOESer",
        "outputId": "cff46f52-ffaa-4a26-88df-7728dbbdf3e1"
      },
      "execution_count": null,
      "outputs": [
        {
          "output_type": "stream",
          "name": "stdout",
          "text": [
            "15\n"
          ]
        }
      ]
    },
    {
      "cell_type": "code",
      "source": [
        "# We can also use Python's built-in sum() function to find the sum of elements in a list\n",
        "print(sum(lst))"
      ],
      "metadata": {
        "colab": {
          "base_uri": "https://localhost:8080/"
        },
        "id": "Wz2mC2b-EcxF",
        "outputId": "79038e8d-527c-4aa7-bed4-67380e311af3"
      },
      "execution_count": null,
      "outputs": [
        {
          "output_type": "stream",
          "name": "stdout",
          "text": [
            "15\n"
          ]
        }
      ]
    },
    {
      "cell_type": "markdown",
      "source": [
        "#2. Write a Python program to Multiply all numbers in the list?"
      ],
      "metadata": {
        "id": "qwtmDnK0DkNO"
      }
    },
    {
      "cell_type": "code",
      "source": [
        "def multiply_list(lst):\n",
        "    # Initialize a variable to store the product\n",
        "    product = 1\n",
        "    # Iterate through the elements of the list\n",
        "    for i in lst:\n",
        "        # Multiply the element to the product\n",
        "        product *= i\n",
        "    return product"
      ],
      "metadata": {
        "id": "vAHhNgAGDnCt"
      },
      "execution_count": null,
      "outputs": []
    },
    {
      "cell_type": "code",
      "source": [
        "lst = [1, 2, 3, 4, 5]\n",
        "result = multiply_list(lst)\n",
        "print(result)"
      ],
      "metadata": {
        "colab": {
          "base_uri": "https://localhost:8080/"
        },
        "id": "tcTZtqokEzDz",
        "outputId": "94cbe817-75f5-4478-9cec-48b475c74880"
      },
      "execution_count": null,
      "outputs": [
        {
          "output_type": "stream",
          "name": "stdout",
          "text": [
            "120\n"
          ]
        }
      ]
    },
    {
      "cell_type": "code",
      "source": [
        "# Alternate method\n",
        "\n",
        "from functools import reduce\n",
        "lst = [1, 2, 3, 4, 5]\n",
        "result = reduce(lambda x, y: x*y, lst)\n",
        "print(result)"
      ],
      "metadata": {
        "colab": {
          "base_uri": "https://localhost:8080/"
        },
        "id": "XKiNj9KUE3Fs",
        "outputId": "9a0bd2f7-f77e-46b1-df68-cb8f85a95b9c"
      },
      "execution_count": null,
      "outputs": [
        {
          "output_type": "stream",
          "name": "stdout",
          "text": [
            "120\n"
          ]
        }
      ]
    },
    {
      "cell_type": "markdown",
      "source": [
        "#3. Write a Python program to find smallest number in a list?"
      ],
      "metadata": {
        "id": "DX1yXNzlDn3S"
      }
    },
    {
      "cell_type": "code",
      "source": [
        "def find_smallest(lst):\n",
        "    # Assign the first element of the list to a variable\n",
        "    # to store the smallest number\n",
        "    smallest = lst[0]\n",
        "    # Iterate through the elements of the list\n",
        "    for i in lst:\n",
        "        # If the current element is smaller than the smallest\n",
        "        # number, update the smallest number\n",
        "        if i < smallest:\n",
        "            smallest = i\n",
        "    return smallest"
      ],
      "metadata": {
        "id": "bMS3lKfzDrXV"
      },
      "execution_count": null,
      "outputs": []
    },
    {
      "cell_type": "code",
      "source": [
        "lst = [5, 2, 7, 1, 3]\n",
        "result = find_smallest(lst)\n",
        "print(result)"
      ],
      "metadata": {
        "colab": {
          "base_uri": "https://localhost:8080/"
        },
        "id": "waB3QW6YFq_f",
        "outputId": "4ef004be-a409-4686-ad82-55228473efbf"
      },
      "execution_count": null,
      "outputs": [
        {
          "output_type": "stream",
          "name": "stdout",
          "text": [
            "1\n"
          ]
        }
      ]
    },
    {
      "cell_type": "code",
      "source": [
        "# Alternate method\n",
        "\n",
        "print(min(lst))"
      ],
      "metadata": {
        "colab": {
          "base_uri": "https://localhost:8080/"
        },
        "id": "dkohotVvGySi",
        "outputId": "919d2773-4636-4082-c949-bccb8b0eb77d"
      },
      "execution_count": null,
      "outputs": [
        {
          "output_type": "stream",
          "name": "stdout",
          "text": [
            "1\n"
          ]
        }
      ]
    },
    {
      "cell_type": "markdown",
      "source": [
        "#4. Write a Python program to find largest number in a list?\n"
      ],
      "metadata": {
        "id": "83PbHUpdDnzz"
      }
    },
    {
      "cell_type": "code",
      "source": [
        "def find_largest(lst):\n",
        "    # Assign the first element of the list to a variable\n",
        "    # to store the largest number\n",
        "    largest = lst[0]\n",
        "    # Iterate through the elements of the list\n",
        "    for i in lst:\n",
        "        # If the current element is larger than the largest\n",
        "        # number, update the largest number\n",
        "        if i > largest:\n",
        "            largest = i\n",
        "    return largest"
      ],
      "metadata": {
        "id": "qe2CtoCcDry3"
      },
      "execution_count": null,
      "outputs": []
    },
    {
      "cell_type": "code",
      "source": [
        "lst = [5, 2, 7, 1, 3]\n",
        "result = find_largest(lst)\n",
        "print(result)"
      ],
      "metadata": {
        "colab": {
          "base_uri": "https://localhost:8080/"
        },
        "id": "oRTtysAjGghf",
        "outputId": "17662d79-e072-4f39-ac02-d2af1f6c0607"
      },
      "execution_count": null,
      "outputs": [
        {
          "output_type": "stream",
          "name": "stdout",
          "text": [
            "7\n"
          ]
        }
      ]
    },
    {
      "cell_type": "code",
      "source": [
        "# Alternate method\n",
        "\n",
        "print(max(lst))"
      ],
      "metadata": {
        "colab": {
          "base_uri": "https://localhost:8080/"
        },
        "id": "txWwLn-ZGps5",
        "outputId": "e35f5517-35f8-4374-8b72-a48b5d0802b6"
      },
      "execution_count": null,
      "outputs": [
        {
          "output_type": "stream",
          "name": "stdout",
          "text": [
            "7\n"
          ]
        }
      ]
    },
    {
      "cell_type": "markdown",
      "source": [
        "#5. Write a Python program to find second largest number in a list?"
      ],
      "metadata": {
        "id": "44JY46PnDnwM"
      }
    },
    {
      "cell_type": "code",
      "source": [
        "def second_largest(lst):\n",
        "    # Sort the list in descending order\n",
        "    lst.sort(reverse=True)\n",
        "    # Return the second element\n",
        "    return lst[1]"
      ],
      "metadata": {
        "id": "CYbRnAJSDsMv"
      },
      "execution_count": null,
      "outputs": []
    },
    {
      "cell_type": "code",
      "source": [
        "lst = [5, 2, 7, 1, 3]\n",
        "result = second_largest(lst)\n",
        "print(result)"
      ],
      "metadata": {
        "colab": {
          "base_uri": "https://localhost:8080/"
        },
        "id": "KDjKoWfjHAJ9",
        "outputId": "e67148e2-37eb-47ca-e739-75ae1cd49d8f"
      },
      "execution_count": null,
      "outputs": [
        {
          "output_type": "stream",
          "name": "stdout",
          "text": [
            "5\n"
          ]
        }
      ]
    },
    {
      "cell_type": "markdown",
      "source": [
        "#6. Write a Python program to find N largest elements from a list?\n"
      ],
      "metadata": {
        "id": "NWSuhNr5Dnrz"
      }
    },
    {
      "cell_type": "code",
      "source": [
        "import heapq\n",
        "\n",
        "def n_largest_elements(lst, n):\n",
        "    # Use the nlargest function from the heapq module\n",
        "    return heapq.nlargest(n, lst)"
      ],
      "metadata": {
        "id": "g7_iTtXyDtJU"
      },
      "execution_count": null,
      "outputs": []
    },
    {
      "cell_type": "code",
      "source": [
        "lst = [5, 2, 7, 1, 3, 8, 10, 12, 15, 6]\n",
        "n = 3\n",
        "result = n_largest_elements(lst, n)\n",
        "print(result)"
      ],
      "metadata": {
        "colab": {
          "base_uri": "https://localhost:8080/"
        },
        "id": "16XIQsosHYiI",
        "outputId": "adf4fbd4-eea8-4555-bfe9-a30c28716d22"
      },
      "execution_count": null,
      "outputs": [
        {
          "output_type": "stream",
          "name": "stdout",
          "text": [
            "[15, 12, 10]\n"
          ]
        }
      ]
    },
    {
      "cell_type": "markdown",
      "source": [
        "#7. Write a Python program to print even numbers in a list?\n"
      ],
      "metadata": {
        "id": "VtPnaaXEDngy"
      }
    },
    {
      "cell_type": "code",
      "source": [
        "def print_even(lst):\n",
        "  even_numbers = [num for num in lst if num % 2 == 0]\n",
        "  print(even_numbers)"
      ],
      "metadata": {
        "id": "dWDnbeHQDtkz"
      },
      "execution_count": null,
      "outputs": []
    },
    {
      "cell_type": "code",
      "source": [
        "lst = [1, 2, 3, 4, 5, 6, 7, 8, 9, 10]\n",
        "print_even(lst)"
      ],
      "metadata": {
        "colab": {
          "base_uri": "https://localhost:8080/"
        },
        "id": "dBcg0L08IAK7",
        "outputId": "cec0fba7-43cd-4add-b3a8-c5930ee423a9"
      },
      "execution_count": null,
      "outputs": [
        {
          "output_type": "stream",
          "name": "stdout",
          "text": [
            "[2, 4, 6, 8, 10]\n"
          ]
        }
      ]
    },
    {
      "cell_type": "markdown",
      "source": [
        "#8. Write a Python program to print odd numbers in a List?\n"
      ],
      "metadata": {
        "id": "2XIPlHaNDt9P"
      }
    },
    {
      "cell_type": "code",
      "source": [
        "def print_odd(lst):\n",
        "  odd_numbers = [num for num in lst if num % 2 != 0]\n",
        "  print(odd_numbers)"
      ],
      "metadata": {
        "id": "sc7CmqIXDuWp"
      },
      "execution_count": null,
      "outputs": []
    },
    {
      "cell_type": "code",
      "source": [
        "lst = [1, 2, 3, 4, 5, 6, 7, 8, 9, 10]\n",
        "print_odd(lst)"
      ],
      "metadata": {
        "colab": {
          "base_uri": "https://localhost:8080/"
        },
        "id": "Z4H6qJxXIUeC",
        "outputId": "f742664c-1b4d-4c26-d809-5632479ac0c6"
      },
      "execution_count": null,
      "outputs": [
        {
          "output_type": "stream",
          "name": "stdout",
          "text": [
            "[1, 3, 5, 7, 9]\n"
          ]
        }
      ]
    },
    {
      "cell_type": "markdown",
      "source": [
        "#9. Write a Python program to Remove empty List from List?"
      ],
      "metadata": {
        "id": "z2WnZSjPDuug"
      }
    },
    {
      "cell_type": "code",
      "source": [
        "def remove_empty_lists(lists):\n",
        "    # Use list comprehension to filter out empty lists\n",
        "    return [lst for lst in lists if lst]"
      ],
      "metadata": {
        "id": "qdJmzFKBDvFP"
      },
      "execution_count": null,
      "outputs": []
    },
    {
      "cell_type": "code",
      "source": [
        "lists = [[], [1, 2, 3], [], [4, 5], [], [6, 7, 8]]\n",
        "result = remove_empty_lists(lists)\n",
        "print(result)"
      ],
      "metadata": {
        "colab": {
          "base_uri": "https://localhost:8080/"
        },
        "id": "xtF6jmEeIma3",
        "outputId": "cfcc3360-e5af-4c8c-aa24-1ce2082d5a90"
      },
      "execution_count": null,
      "outputs": [
        {
          "output_type": "stream",
          "name": "stdout",
          "text": [
            "[[1, 2, 3], [4, 5], [6, 7, 8]]\n"
          ]
        }
      ]
    },
    {
      "cell_type": "code",
      "source": [
        "# Alternate method\n",
        "\n",
        "print(list(filter(None, lists)))"
      ],
      "metadata": {
        "colab": {
          "base_uri": "https://localhost:8080/"
        },
        "id": "fFwml1L3ItqP",
        "outputId": "31ee0101-fd00-4d3f-a73f-972283e29477"
      },
      "execution_count": null,
      "outputs": [
        {
          "output_type": "stream",
          "name": "stdout",
          "text": [
            "[[1, 2, 3], [4, 5], [6, 7, 8]]\n"
          ]
        }
      ]
    },
    {
      "cell_type": "markdown",
      "source": [
        "#10. Write a Python program to Cloning or Copying a list?"
      ],
      "metadata": {
        "id": "6MxKFYpwDve9"
      }
    },
    {
      "cell_type": "markdown",
      "source": [
        "1. Using the built-in `list()` function for copying a list:"
      ],
      "metadata": {
        "id": "c3A_BM_9JKmi"
      }
    },
    {
      "cell_type": "code",
      "source": [
        "original_list = [1, 2, 3, 4, 5]\n",
        "copied_list = list(original_list) # This will create a new list and copy the elements from the original list to the new list.\n",
        "print(\"Original list:\",original_list)\n",
        "print(\"Copied list:\",copied_list)"
      ],
      "metadata": {
        "colab": {
          "base_uri": "https://localhost:8080/"
        },
        "id": "-LfLAuLxJJ4d",
        "outputId": "4f9e0c1f-9da7-4ca0-def0-5f3ed77e00d7"
      },
      "execution_count": null,
      "outputs": [
        {
          "output_type": "stream",
          "name": "stdout",
          "text": [
            "Original list: [1, 2, 3, 4, 5]\n",
            "Copied list: [1, 2, 3, 4, 5]\n"
          ]
        }
      ]
    },
    {
      "cell_type": "markdown",
      "source": [
        "2. Using slicing for copying a list:"
      ],
      "metadata": {
        "id": "TI2rw_I4JevW"
      }
    },
    {
      "cell_type": "code",
      "source": [
        "original_list = [1, 2, 3, 4, 5]\n",
        "copied_list = original_list[:]\n",
        "print(\"Original list:\",original_list)\n",
        "print(\"Copied list:\",copied_list)"
      ],
      "metadata": {
        "colab": {
          "base_uri": "https://localhost:8080/"
        },
        "id": "4-JHYSfgDwNS",
        "outputId": "fe318aee-a1a3-4d86-d7e0-e5507396fa4c"
      },
      "execution_count": null,
      "outputs": [
        {
          "output_type": "stream",
          "name": "stdout",
          "text": [
            "Original list: [1, 2, 3, 4, 5]\n",
            "Copied list: [1, 2, 3, 4, 5]\n"
          ]
        }
      ]
    },
    {
      "cell_type": "markdown",
      "source": [
        "3. Using the copy() method for copying a list:"
      ],
      "metadata": {
        "id": "CQe8cz4GJ0DZ"
      }
    },
    {
      "cell_type": "code",
      "source": [
        "original_list = [1, 2, 3, 4, 5]\n",
        "copied_list = original_list.copy()\n",
        "print(\"Original list:\",original_list)\n",
        "print(\"Copied list:\",copied_list)"
      ],
      "metadata": {
        "colab": {
          "base_uri": "https://localhost:8080/"
        },
        "id": "twX2dciqJztY",
        "outputId": "33dda063-f2c5-4555-cfc7-2baa379b2e2f"
      },
      "execution_count": null,
      "outputs": [
        {
          "output_type": "stream",
          "name": "stdout",
          "text": [
            "Original list: [1, 2, 3, 4, 5]\n",
            "Copied list: [1, 2, 3, 4, 5]\n"
          ]
        }
      ]
    },
    {
      "cell_type": "markdown",
      "source": [
        "#11. Write a Python program to Count occurrences of an element in a list?"
      ],
      "metadata": {
        "id": "CETuUBYPDwfN"
      }
    },
    {
      "cell_type": "code",
      "source": [
        "def count_occurrences(lst, element):\n",
        "    # Use list comprehension to count the occurrences\n",
        "    return len([i for i in lst if i == element])"
      ],
      "metadata": {
        "id": "I4RUbKAZDw6p"
      },
      "execution_count": null,
      "outputs": []
    },
    {
      "cell_type": "code",
      "source": [
        "lst = [1, 2, 3, 4, 5, 1, 2, 3, 1, 2, 1]\n",
        "element = 1\n",
        "result = count_occurrences(lst, element)\n",
        "print(result)"
      ],
      "metadata": {
        "colab": {
          "base_uri": "https://localhost:8080/"
        },
        "id": "hsTbH5E2Kf1N",
        "outputId": "3693e59a-34e2-47ad-d4cf-61e3d8c6c105"
      },
      "execution_count": null,
      "outputs": [
        {
          "output_type": "stream",
          "name": "stdout",
          "text": [
            "4\n"
          ]
        }
      ]
    },
    {
      "cell_type": "code",
      "source": [
        "# Alternate method\n",
        "element = 3\n",
        "result = lst.count(element)\n",
        "print(result)"
      ],
      "metadata": {
        "colab": {
          "base_uri": "https://localhost:8080/"
        },
        "id": "gafGEyYyKvfb",
        "outputId": "146062e3-c63a-4dbb-8912-edff61188480"
      },
      "execution_count": null,
      "outputs": [
        {
          "output_type": "stream",
          "name": "stdout",
          "text": [
            "2\n"
          ]
        }
      ]
    }
  ]
}