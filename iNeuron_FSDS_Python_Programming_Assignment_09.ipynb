{
  "nbformat": 4,
  "nbformat_minor": 0,
  "metadata": {
    "colab": {
      "provenance": []
    },
    "kernelspec": {
      "name": "python3",
      "display_name": "Python 3"
    },
    "language_info": {
      "name": "python"
    }
  },
  "cells": [
    {
      "cell_type": "markdown",
      "source": [
        "#Python programming assignment 09"
      ],
      "metadata": {
        "id": "9wcOE_hO48pW"
      }
    },
    {
      "cell_type": "markdown",
      "source": [
        "Assignmrnt can be found at: [Assignment](https://drive.google.com/file/d/1hdUGW5tzH08haEyPq8ttmK16I5POSlqp/view)"
      ],
      "metadata": {
        "id": "XixZfaRV48hF"
      }
    },
    {
      "cell_type": "markdown",
      "source": [
        "#1. Write a Python program to check if the given number is a Disarium Number?"
      ],
      "metadata": {
        "id": "TE1KWbYT7fiW"
      }
    },
    {
      "cell_type": "code",
      "execution_count": null,
      "metadata": {
        "id": "6ozpgG5N43oQ"
      },
      "outputs": [],
      "source": [
        "def is_disarium(num):\n",
        "    # Convert the number to a string to access its digits\n",
        "    num_str = str(num)\n",
        "    # Initialize a variable to store the sum\n",
        "    sum = 0\n",
        "    # Iterate through the digits of the number\n",
        "    for i in range(len(num_str)):\n",
        "        # Add the digit raised to its position to the sum\n",
        "        sum += int(num_str[i]) ** (i + 1)\n",
        "    # Check if the sum is equal to the original number\n",
        "    return sum == num"
      ]
    },
    {
      "cell_type": "code",
      "source": [
        "num = 89\n",
        "result = is_disarium(num)\n",
        "print(result)"
      ],
      "metadata": {
        "colab": {
          "base_uri": "https://localhost:8080/"
        },
        "id": "SZZANMuO7iyu",
        "outputId": "c21c7693-b8ad-4f03-ff6f-79bba0b74f1a"
      },
      "execution_count": null,
      "outputs": [
        {
          "output_type": "stream",
          "name": "stdout",
          "text": [
            "True\n"
          ]
        }
      ]
    },
    {
      "cell_type": "markdown",
      "source": [
        "#2. Write a Python program to print all disarium numbers between 1 to 100?"
      ],
      "metadata": {
        "id": "fC-WOxti7jL5"
      }
    },
    {
      "cell_type": "code",
      "source": [
        "def is_disarium(num):\n",
        "    # Convert the number to a string to access its digits\n",
        "    num_str = str(num)\n",
        "    # Initialize a variable to store the sum\n",
        "    sum = 0\n",
        "    # Iterate through the digits of the number\n",
        "    for i in range(len(num_str)):\n",
        "        # Add the digit raised to its position to the sum\n",
        "        sum += int(num_str[i]) ** (i + 1)\n",
        "    # Check if the sum is equal to the original number\n",
        "    return sum == num"
      ],
      "metadata": {
        "id": "amMdC8-R7kFw"
      },
      "execution_count": null,
      "outputs": []
    },
    {
      "cell_type": "code",
      "source": [
        "# Iterate through the numbers between 1 and 100\n",
        "for num in range(1, 101):\n",
        "    # Check if the number is a disarium number\n",
        "    if is_disarium(num):\n",
        "        print(num)"
      ],
      "metadata": {
        "colab": {
          "base_uri": "https://localhost:8080/"
        },
        "id": "up2JF3D47l9w",
        "outputId": "a0f56858-b947-476e-c925-0bd08e0c6cb4"
      },
      "execution_count": null,
      "outputs": [
        {
          "output_type": "stream",
          "name": "stdout",
          "text": [
            "1\n",
            "2\n",
            "3\n",
            "4\n",
            "5\n",
            "6\n",
            "7\n",
            "8\n",
            "9\n",
            "89\n"
          ]
        }
      ]
    },
    {
      "cell_type": "markdown",
      "source": [
        "#3. Write a Python program to check if the given number is Happy Number?"
      ],
      "metadata": {
        "id": "IUFDZr4e7mQN"
      }
    },
    {
      "cell_type": "code",
      "source": [
        "def is_happy(n):\n",
        "    # Use a set to keep track of the numbers we have seen\n",
        "    seen = set()\n",
        "    while n not in seen:\n",
        "        # Add the current number to the set\n",
        "        seen.add(n)\n",
        "        # Replace the number by the sum of the squares of its digits\n",
        "        n = sum(int(d)**2 for d in str(n))\n",
        "    # If the number is 1, it is a happy number\n",
        "    return n == 1"
      ],
      "metadata": {
        "id": "JDWvTU0d7nEZ"
      },
      "execution_count": null,
      "outputs": []
    },
    {
      "cell_type": "code",
      "source": [
        "num = 19\n",
        "result = is_happy(num)\n",
        "print(result)"
      ],
      "metadata": {
        "colab": {
          "base_uri": "https://localhost:8080/"
        },
        "id": "1EPwmz117ots",
        "outputId": "b6eabd9a-d1b6-4bbf-c1e5-e6b7d2961950"
      },
      "execution_count": null,
      "outputs": [
        {
          "output_type": "stream",
          "name": "stdout",
          "text": [
            "True\n"
          ]
        }
      ]
    },
    {
      "cell_type": "markdown",
      "source": [
        "#4. Write a Python program to print all happy numbers between 1 and 100?"
      ],
      "metadata": {
        "id": "D5X2pS9A7pCr"
      }
    },
    {
      "cell_type": "code",
      "source": [
        "def is_happy(n):\n",
        "    # Use a set to keep track of the numbers we have seen\n",
        "    seen = set()\n",
        "    while n not in seen:\n",
        "        # Add the current number to the set\n",
        "        seen.add(n)\n",
        "        # Replace the number by the sum of the squares of its digits\n",
        "        n = sum(int(d)**2 for d in str(n))\n",
        "    # If the number is 1, it is a happy number\n",
        "    return n == 1"
      ],
      "metadata": {
        "id": "hoNxObWT7pzJ"
      },
      "execution_count": null,
      "outputs": []
    },
    {
      "cell_type": "code",
      "source": [
        "# Iterate through the numbers between 1 and 100\n",
        "for num in range(1, 101):\n",
        "    # Check if the number is a happy number\n",
        "    if is_happy(num):\n",
        "        print(num)"
      ],
      "metadata": {
        "colab": {
          "base_uri": "https://localhost:8080/"
        },
        "id": "LUQHeDvF7rus",
        "outputId": "d436e617-e10e-4bc3-c5e2-327a7fc1169f"
      },
      "execution_count": null,
      "outputs": [
        {
          "output_type": "stream",
          "name": "stdout",
          "text": [
            "1\n",
            "7\n",
            "10\n",
            "13\n",
            "19\n",
            "23\n",
            "28\n",
            "31\n",
            "32\n",
            "44\n",
            "49\n",
            "68\n",
            "70\n",
            "79\n",
            "82\n",
            "86\n",
            "91\n",
            "94\n",
            "97\n",
            "100\n"
          ]
        }
      ]
    },
    {
      "cell_type": "markdown",
      "source": [
        "#5. Write a Python program to determine whether the given number is a Harshad Number?"
      ],
      "metadata": {
        "id": "NnSBER-Z7sBW"
      }
    },
    {
      "cell_type": "code",
      "source": [
        "def is_harshad(num):\n",
        "    # Find the sum of the digits\n",
        "    digit_sum = sum(int(d) for d in str(num))\n",
        "    # Check if the number is divisible by the sum of its digits\n",
        "    return num % digit_sum == 0"
      ],
      "metadata": {
        "id": "HFZZdOvo7syr"
      },
      "execution_count": null,
      "outputs": []
    },
    {
      "cell_type": "code",
      "source": [
        "num = 18\n",
        "result = is_harshad(num)\n",
        "print(result)"
      ],
      "metadata": {
        "colab": {
          "base_uri": "https://localhost:8080/"
        },
        "id": "ZZgBovl97vDv",
        "outputId": "afc47d67-212f-41ab-e49b-baa5b11a77df"
      },
      "execution_count": null,
      "outputs": [
        {
          "output_type": "stream",
          "name": "stdout",
          "text": [
            "True\n"
          ]
        }
      ]
    },
    {
      "cell_type": "markdown",
      "source": [
        "#6. Write a Python program to print all pronic numbers between 1 and 100?"
      ],
      "metadata": {
        "id": "KNb-cQAB7vmn"
      }
    },
    {
      "cell_type": "code",
      "source": [
        "# Iterate through the numbers between 1 and 100\n",
        "for num in range(1, 101):\n",
        "    # Check if the number is a pronic number\n",
        "    if (num * (num+1)) in range(1, 101):\n",
        "        print(num * (num+1))"
      ],
      "metadata": {
        "colab": {
          "base_uri": "https://localhost:8080/"
        },
        "id": "86Pl33HZ7wun",
        "outputId": "2d069c00-3aeb-4769-d1b0-0849632d3347"
      },
      "execution_count": null,
      "outputs": [
        {
          "output_type": "stream",
          "name": "stdout",
          "text": [
            "2\n",
            "6\n",
            "12\n",
            "20\n",
            "30\n",
            "42\n",
            "56\n",
            "72\n",
            "90\n"
          ]
        }
      ]
    }
  ]
}