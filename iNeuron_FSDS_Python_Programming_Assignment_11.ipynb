{
  "nbformat": 4,
  "nbformat_minor": 0,
  "metadata": {
    "colab": {
      "provenance": []
    },
    "kernelspec": {
      "name": "python3",
      "display_name": "Python 3"
    },
    "language_info": {
      "name": "python"
    }
  },
  "cells": [
    {
      "cell_type": "markdown",
      "source": [
        "# Python programming assignment 11"
      ],
      "metadata": {
        "id": "BXllMtDJGP9L"
      }
    },
    {
      "cell_type": "markdown",
      "source": [
        "Assignment can be found at: [Assignment](https://drive.google.com/file/d/1746HlOfuieTY61nVpgrfJJpcOY7IVlyW/view)"
      ],
      "metadata": {
        "id": "ZYAolyiJGPtF"
      }
    },
    {
      "cell_type": "markdown",
      "source": [
        "#1.   Write a Python program to find words which are greater than given length k?\n",
        "\n"
      ],
      "metadata": {
        "id": "H6CQJ3pfGIVO"
      }
    },
    {
      "cell_type": "code",
      "source": [
        "def find_words(string, k):\n",
        "    words = string.split()\n",
        "    result = [word for word in words if len(word)>k]\n",
        "    return result"
      ],
      "metadata": {
        "id": "_d6uETxwGHx8"
      },
      "execution_count": 1,
      "outputs": []
    },
    {
      "cell_type": "code",
      "execution_count": 2,
      "metadata": {
        "colab": {
          "base_uri": "https://localhost:8080/"
        },
        "id": "3mZAjce8F-N2",
        "outputId": "547c5de8-927f-44cc-a1bd-6b143cfbe2f5"
      },
      "outputs": [
        {
          "output_type": "stream",
          "name": "stdout",
          "text": [
            "['sample', 'string', 'multiple', 'words']\n"
          ]
        }
      ],
      "source": [
        "string = \"This is a sample string with multiple words\"\n",
        "k = 4\n",
        "print(find_words(string, k))"
      ]
    },
    {
      "cell_type": "markdown",
      "source": [
        "# 2.   Write a Python program for removing i-th character from a string?"
      ],
      "metadata": {
        "id": "fsNs2t7cGztn"
      }
    },
    {
      "cell_type": "code",
      "source": [
        "def remove_ith_char(string, i):\n",
        "    chars = list(string)\n",
        "    chars.pop(i)\n",
        "    return ''.join(chars)"
      ],
      "metadata": {
        "id": "OuF4FZc8GoOw"
      },
      "execution_count": 5,
      "outputs": []
    },
    {
      "cell_type": "code",
      "source": [
        "string = \"Hello, World!\"\n",
        "i = 7\n",
        "print(remove_ith_char(string, i))"
      ],
      "metadata": {
        "colab": {
          "base_uri": "https://localhost:8080/"
        },
        "id": "PzibbHqlHAxl",
        "outputId": "de50177c-9f32-44da-f5f6-2d80b01bf515"
      },
      "execution_count": 6,
      "outputs": [
        {
          "output_type": "stream",
          "name": "stdout",
          "text": [
            "Hello, orld!\n"
          ]
        }
      ]
    },
    {
      "cell_type": "markdown",
      "source": [
        "#3.    Write a Python program to split and join a string?"
      ],
      "metadata": {
        "id": "Dmz96o4LHVRY"
      }
    },
    {
      "cell_type": "code",
      "source": [
        "def split_string(string, delimiter):\n",
        "    return string.split(delimiter)\n",
        "\n",
        "def join_string(substrings, delimiter):\n",
        "    return delimiter.join(substrings)"
      ],
      "metadata": {
        "id": "8N63p982HBND"
      },
      "execution_count": 10,
      "outputs": []
    },
    {
      "cell_type": "code",
      "source": [
        "string = \"Hello, World! How are you?\"\n",
        "substrings = ['Hello,', 'World!', 'How', 'are', 'you?']\n",
        "delimiter = \" \"\n",
        "print(split_string(string, delimiter))\n",
        "print(join_string(substrings, delimiter))"
      ],
      "metadata": {
        "colab": {
          "base_uri": "https://localhost:8080/"
        },
        "id": "Uzs5dgcIHi4Y",
        "outputId": "f1069d79-417a-4382-bb1d-8572db82933c"
      },
      "execution_count": 11,
      "outputs": [
        {
          "output_type": "stream",
          "name": "stdout",
          "text": [
            "['Hello,', 'World!', 'How', 'are', 'you?']\n",
            "Hello, World! How are you?\n"
          ]
        }
      ]
    },
    {
      "cell_type": "markdown",
      "source": [
        "# 4.    Write a Python to check if a given string is binary string or not?"
      ],
      "metadata": {
        "id": "5Jj6TNQlHyyM"
      }
    },
    {
      "cell_type": "code",
      "source": [
        "import re\n",
        "\n",
        "def is_binary_string(string):\n",
        "    return bool(re.match(\"^[0-1]+$\", string))"
      ],
      "metadata": {
        "id": "zNsfkTWuH-t4"
      },
      "execution_count": 12,
      "outputs": []
    },
    {
      "cell_type": "code",
      "source": [
        "string = \"110101\"\n",
        "print(is_binary_string(string))\n",
        "\n",
        "string = \"110101A\"\n",
        "print(is_binary_string(string))"
      ],
      "metadata": {
        "colab": {
          "base_uri": "https://localhost:8080/"
        },
        "id": "07mViuYtIP5h",
        "outputId": "a7532262-515b-4760-d20d-569057678d0a"
      },
      "execution_count": 13,
      "outputs": [
        {
          "output_type": "stream",
          "name": "stdout",
          "text": [
            "True\n",
            "False\n"
          ]
        }
      ]
    },
    {
      "cell_type": "markdown",
      "source": [
        "# 5.    Write a Python program to find uncommon words from two Strings?"
      ],
      "metadata": {
        "id": "jtyMjUdsITCQ"
      }
    },
    {
      "cell_type": "code",
      "source": [
        "def find_uncommon_words(string1, string2):\n",
        "    words1 = set(string1.split())\n",
        "    words2 = set(string2.split())\n",
        "    return words1.symmetric_difference(words2)"
      ],
      "metadata": {
        "id": "A8oBdNrgIQPx"
      },
      "execution_count": 14,
      "outputs": []
    },
    {
      "cell_type": "code",
      "source": [
        "string1 = \"Hello, World! How are you?\"\n",
        "string2 = \"Hello, Python! How are you?\"\n",
        "print(find_uncommon_words(string1, string2))"
      ],
      "metadata": {
        "colab": {
          "base_uri": "https://localhost:8080/"
        },
        "id": "GC4IPWVNIiSS",
        "outputId": "5d2b9bf8-1495-4f4b-c0bb-bc88c1d890a4"
      },
      "execution_count": 15,
      "outputs": [
        {
          "output_type": "stream",
          "name": "stdout",
          "text": [
            "{'Python!', 'World!'}\n"
          ]
        }
      ]
    },
    {
      "cell_type": "markdown",
      "source": [
        "# 6.    Write a Python to find all duplicate characters in string?"
      ],
      "metadata": {
        "id": "Wmc1NCmgI0E2"
      }
    },
    {
      "cell_type": "code",
      "source": [
        "from collections import Counter\n",
        "\n",
        "def find_duplicate_chars(string):\n",
        "    char_count = Counter(string)\n",
        "    duplicate_chars = [char for char, count in char_count.items() if count > 1]\n",
        "    return duplicate_chars"
      ],
      "metadata": {
        "id": "CNDZZvCvIinw"
      },
      "execution_count": 16,
      "outputs": []
    },
    {
      "cell_type": "code",
      "source": [
        "string = \"hello, world!\"\n",
        "print(find_duplicate_chars(string))"
      ],
      "metadata": {
        "colab": {
          "base_uri": "https://localhost:8080/"
        },
        "id": "XxWRkEzsJnLE",
        "outputId": "13e187e2-35a0-42fd-f5d8-3ffdabcbcaf0"
      },
      "execution_count": 17,
      "outputs": [
        {
          "output_type": "stream",
          "name": "stdout",
          "text": [
            "['l', 'o']\n"
          ]
        }
      ]
    },
    {
      "cell_type": "markdown",
      "source": [
        "#7.    Write a Python Program to check if a string contains any special character?"
      ],
      "metadata": {
        "id": "5mjZPozZJqSu"
      }
    },
    {
      "cell_type": "code",
      "source": [
        "def check_special_characters(string):\n",
        "    special_chars = set('!@#$%^&*()_-+={}[]|\\:;<>,.?/')\n",
        "    return any(char in special_chars for char in string)"
      ],
      "metadata": {
        "id": "E3Uj6s1PJnhf"
      },
      "execution_count": 18,
      "outputs": []
    },
    {
      "cell_type": "code",
      "source": [
        "string = \"Hello, World!\"\n",
        "print(check_special_characters(string))"
      ],
      "metadata": {
        "id": "sL-DC6iSKIZ3",
        "outputId": "ffb4a8fe-1328-45f6-b485-7aef0eb64bc7",
        "colab": {
          "base_uri": "https://localhost:8080/"
        }
      },
      "execution_count": 19,
      "outputs": [
        {
          "output_type": "stream",
          "name": "stdout",
          "text": [
            "True\n"
          ]
        }
      ]
    },
    {
      "cell_type": "code",
      "source": [
        "string = \"HelloWorld\"\n",
        "print(check_special_characters(string))"
      ],
      "metadata": {
        "id": "s_x4SKlqKJu7",
        "outputId": "fe4f2779-dfc2-45ce-b3ab-29d81dc9fe39",
        "colab": {
          "base_uri": "https://localhost:8080/"
        }
      },
      "execution_count": 20,
      "outputs": [
        {
          "output_type": "stream",
          "name": "stdout",
          "text": [
            "False\n"
          ]
        }
      ]
    }
  ]
}