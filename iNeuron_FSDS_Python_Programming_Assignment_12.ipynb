{
  "nbformat": 4,
  "nbformat_minor": 0,
  "metadata": {
    "colab": {
      "provenance": []
    },
    "kernelspec": {
      "name": "python3",
      "display_name": "Python 3"
    },
    "language_info": {
      "name": "python"
    }
  },
  "cells": [
    {
      "cell_type": "markdown",
      "source": [
        "#Python programming assignment 12"
      ],
      "metadata": {
        "id": "cxZ-nBLZ7egH"
      }
    },
    {
      "cell_type": "markdown",
      "source": [
        "Assignment can be found here: [Assignment](https://drive.google.com/file/d/19-J6nCYXNUw_mcim9yqptiN-8PCjEco0/view)\n",
        "\n"
      ],
      "metadata": {
        "id": "9ho6wsFl7eXk"
      }
    },
    {
      "cell_type": "markdown",
      "source": [
        "# 1. Write a Python program to Extract Unique values dictionary values?\n"
      ],
      "metadata": {
        "id": "mgoYRsDS7eQa"
      }
    },
    {
      "cell_type": "code",
      "execution_count": 1,
      "metadata": {
        "id": "Qv7vf8p17c0x"
      },
      "outputs": [],
      "source": [
        "def extract_unique_values(d):\n",
        "    unique_values = list(set(d.values()))\n",
        "    return unique_values"
      ]
    },
    {
      "cell_type": "code",
      "source": [
        "example_dict = {'a': 1, 'b': 2, 'c': 3, 'd': 2, 'e': 1}\n",
        "print(extract_unique_values(example_dict))"
      ],
      "metadata": {
        "colab": {
          "base_uri": "https://localhost:8080/"
        },
        "id": "UIOd79pU8NhU",
        "outputId": "287139d6-7b09-4f29-868b-caeb0815adfa"
      },
      "execution_count": 2,
      "outputs": [
        {
          "output_type": "stream",
          "name": "stdout",
          "text": [
            "[1, 2, 3]\n"
          ]
        }
      ]
    },
    {
      "cell_type": "markdown",
      "source": [
        "# 2. Write a Python program to find the sum of all items in a dictionary?"
      ],
      "metadata": {
        "id": "lJo57PdD8Vk8"
      }
    },
    {
      "cell_type": "code",
      "source": [
        "def sum_dict_items(d):\n",
        "    return sum(d.values())"
      ],
      "metadata": {
        "id": "-ib3jPES8N-Y"
      },
      "execution_count": 3,
      "outputs": []
    },
    {
      "cell_type": "code",
      "source": [
        "example_dict = {'a': 1, 'b': 2, 'c': 3, 'd': 4, 'e': 5}\n",
        "print(sum_dict_items(example_dict))"
      ],
      "metadata": {
        "colab": {
          "base_uri": "https://localhost:8080/"
        },
        "id": "Iua5bYj48kld",
        "outputId": "2184b1b7-1ab4-4ee6-c015-87bfebcbc429"
      },
      "execution_count": 4,
      "outputs": [
        {
          "output_type": "stream",
          "name": "stdout",
          "text": [
            "15\n"
          ]
        }
      ]
    },
    {
      "cell_type": "markdown",
      "source": [
        "#3. Write a Python program to Merging two Dictionaries?"
      ],
      "metadata": {
        "id": "6Qu_V8SJ87JT"
      }
    },
    {
      "cell_type": "code",
      "source": [
        "def merge_dicts(dict1, dict2):\n",
        "    return {**dict1, **dict2}"
      ],
      "metadata": {
        "id": "bILgOelD8lBh"
      },
      "execution_count": 5,
      "outputs": []
    },
    {
      "cell_type": "code",
      "source": [
        "dict1 = {'a': 1, 'b': 2, 'c': 3}\n",
        "dict2 = {'d': 4, 'e': 5, 'f': 6}\n",
        "merged_dict = merge_dicts(dict1, dict2)\n",
        "print(merged_dict)"
      ],
      "metadata": {
        "colab": {
          "base_uri": "https://localhost:8080/"
        },
        "id": "piWLi3Io82LH",
        "outputId": "a2f05441-d283-446d-8ba0-561543c05cee"
      },
      "execution_count": 6,
      "outputs": [
        {
          "output_type": "stream",
          "name": "stdout",
          "text": [
            "{'a': 1, 'b': 2, 'c': 3, 'd': 4, 'e': 5, 'f': 6}\n"
          ]
        }
      ]
    },
    {
      "cell_type": "markdown",
      "source": [
        "# 4.    Write a Python program to convert key-values list to flat dictionary?"
      ],
      "metadata": {
        "id": "dw9VxRXG89R_"
      }
    },
    {
      "cell_type": "code",
      "source": [
        "def list_to_dict(lst):\n",
        "    return {key:value for key, value in lst}"
      ],
      "metadata": {
        "id": "J9rpZYnB82qG"
      },
      "execution_count": 7,
      "outputs": []
    },
    {
      "cell_type": "code",
      "source": [
        "example_list = [('a', 1), ('b', 2), ('c', 3), ('d', 4), ('e', 5)]\n",
        "example_dict = list_to_dict(example_list)\n",
        "print(example_dict)"
      ],
      "metadata": {
        "colab": {
          "base_uri": "https://localhost:8080/"
        },
        "id": "HMRekUQ9896h",
        "outputId": "e15ade3d-80d1-4de2-d768-4cd4f811ca67"
      },
      "execution_count": 8,
      "outputs": [
        {
          "output_type": "stream",
          "name": "stdout",
          "text": [
            "{'a': 1, 'b': 2, 'c': 3, 'd': 4, 'e': 5}\n"
          ]
        }
      ]
    },
    {
      "cell_type": "markdown",
      "source": [
        "# 5.    Write a Python program to insertion at the beginning in OrderedDict?"
      ],
      "metadata": {
        "id": "pD0DrnhJ8-SM"
      }
    },
    {
      "cell_type": "code",
      "source": [
        "from collections import OrderedDict\n",
        "\n",
        "def insert_at_beginning(odict, key, value):\n",
        "    new_dict = OrderedDict()\n",
        "    new_dict[key] = value\n",
        "    new_dict.update(odict)\n",
        "    odict.clear()\n",
        "    odict.update(new_dict)"
      ],
      "metadata": {
        "id": "iX-iEcqd-MU4"
      },
      "execution_count": 14,
      "outputs": []
    },
    {
      "cell_type": "code",
      "source": [
        "example_dict = OrderedDict({'a': 1, 'b': 2, 'c': 3})\n",
        "insert_at_beginning(example_dict, 'd', 4)\n",
        "print(example_dict)"
      ],
      "metadata": {
        "colab": {
          "base_uri": "https://localhost:8080/"
        },
        "id": "IKL-oGqC-PqY",
        "outputId": "b64ff407-1bc0-4e27-abf8-47a11f04654c"
      },
      "execution_count": 15,
      "outputs": [
        {
          "output_type": "stream",
          "name": "stdout",
          "text": [
            "OrderedDict([('d', 4), ('a', 1), ('b', 2), ('c', 3)])\n"
          ]
        }
      ]
    },
    {
      "cell_type": "markdown",
      "source": [
        "# 6.    Write a Python program to check order of character in string using OrderedDict()?"
      ],
      "metadata": {
        "id": "boIJKvtK-hmg"
      }
    },
    {
      "cell_type": "code",
      "source": [
        "from collections import OrderedDict\n",
        "\n",
        "def check_order(s):\n",
        "    return ''.join(OrderedDict.fromkeys(s)) == s"
      ],
      "metadata": {
        "id": "Ff__509m-gP_"
      },
      "execution_count": 16,
      "outputs": []
    },
    {
      "cell_type": "code",
      "source": [
        "example_string = 'abcdef'\n",
        "print(check_order(example_string))"
      ],
      "metadata": {
        "colab": {
          "base_uri": "https://localhost:8080/"
        },
        "id": "-rs9KKb9-iLt",
        "outputId": "c95c9a73-4c06-4911-fb78-1d993b77e6c0"
      },
      "execution_count": 17,
      "outputs": [
        {
          "output_type": "stream",
          "name": "stdout",
          "text": [
            "True\n"
          ]
        }
      ]
    },
    {
      "cell_type": "markdown",
      "source": [
        "#7.    Write a Python program to sort Python Dictionaries by Key or Value?"
      ],
      "metadata": {
        "id": "1kbAozo9-2ZC"
      }
    },
    {
      "cell_type": "code",
      "source": [
        "def sort_dict_by_value(d):\n",
        "    return dict(sorted(d.items(), key=lambda x: x[1]))"
      ],
      "metadata": {
        "id": "M9hV1VIg-1oR"
      },
      "execution_count": 1,
      "outputs": []
    },
    {
      "cell_type": "code",
      "source": [
        "example_dict = {'c': 3, 'a': 1, 'b': 2, 'e': 5, 'd': 4}\n",
        "print(sort_dict_by_value(example_dict))"
      ],
      "metadata": {
        "colab": {
          "base_uri": "https://localhost:8080/"
        },
        "id": "L1XGLodb-3GB",
        "outputId": "f5285e84-c803-4058-c37e-a0712c13930b"
      },
      "execution_count": 2,
      "outputs": [
        {
          "output_type": "stream",
          "name": "stdout",
          "text": [
            "{'a': 1, 'b': 2, 'c': 3, 'd': 4, 'e': 5}\n"
          ]
        }
      ]
    }
  ]
}