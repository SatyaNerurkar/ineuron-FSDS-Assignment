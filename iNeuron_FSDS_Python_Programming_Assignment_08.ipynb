{
  "nbformat": 4,
  "nbformat_minor": 0,
  "metadata": {
    "colab": {
      "provenance": []
    },
    "kernelspec": {
      "name": "python3",
      "display_name": "Python 3"
    },
    "language_info": {
      "name": "python"
    }
  },
  "cells": [
    {
      "cell_type": "markdown",
      "source": [
        "#Python programming assignment 08"
      ],
      "metadata": {
        "id": "qbqqHuMD5uCd"
      }
    },
    {
      "cell_type": "markdown",
      "source": [
        "Assignmrnt can be found at: [Assignment](https://drive.google.com/file/d/1KMvOueR-cQxRJD9cADGccJxVmYDp2xkV/view)"
      ],
      "metadata": {
        "id": "YCCQ2ciZ5xgj"
      }
    },
    {
      "cell_type": "markdown",
      "source": [
        "#1. Write a Python Program to Add Two Matrices?"
      ],
      "metadata": {
        "id": "baIP3tBs5y8M"
      }
    },
    {
      "cell_type": "code",
      "execution_count": null,
      "metadata": {
        "id": "fZYm0I0z5n2Y"
      },
      "outputs": [],
      "source": [
        "# Function to add two matrices\n",
        "def add_matrices(a, b):\n",
        "    # Check if the matrices have the same dimensions\n",
        "    if len(a) != len(b) or len(a[0]) != len(b[0]):\n",
        "        return \"Error: Matrices have different dimensions.\"\n",
        "    else:\n",
        "        # Create a new matrix with the same dimensions as the input matrices\n",
        "        result = [[0 for j in range(len(a[0]))] for i in range(len(a))]\n",
        "        # Iterate through the rows and columns of the matrices\n",
        "        for i in range(len(a)):\n",
        "            for j in range(len(a[0])):\n",
        "                # Add the corresponding elements of the input matrices\n",
        "                result[i][j] = a[i][j] + b[i][j]\n",
        "        return result"
      ]
    },
    {
      "cell_type": "code",
      "source": [
        "matrix1 = [[1, 2, 3], [4, 5, 6], [7, 8, 9]]\n",
        "matrix2 = [[9, 8, 7], [6, 5, 4], [3, 2, 1]]\n",
        "result = add_matrices(matrix1, matrix2)\n",
        "print(result)"
      ],
      "metadata": {
        "id": "MJCcmAqc6zaq",
        "colab": {
          "base_uri": "https://localhost:8080/"
        },
        "outputId": "109aca56-416a-4356-de2c-3842eaa1d3b6"
      },
      "execution_count": null,
      "outputs": [
        {
          "output_type": "stream",
          "name": "stdout",
          "text": [
            "[[10, 10, 10], [10, 10, 10], [10, 10, 10]]\n"
          ]
        }
      ]
    },
    {
      "cell_type": "markdown",
      "source": [
        "#2. Write a Python Program to Multiply Two Matrices?"
      ],
      "metadata": {
        "id": "Nxr8adCi6-nn"
      }
    },
    {
      "cell_type": "code",
      "source": [
        "def multiply_matrices(a, b):\n",
        "    # Check if the matrices can be multiplied (inner dimensions match)\n",
        "    if len(a[0]) != len(b):\n",
        "        return \"Error: Inner dimensions do not match.\"\n",
        "    else:\n",
        "        # Create a new matrix with dimensions (len(a), len(b[0]))\n",
        "        result = [[0 for j in range(len(b[0]))] for i in range(len(a))]\n",
        "        # Iterate through the rows of matrix a\n",
        "        for i in range(len(a)):\n",
        "            # Iterate through the columns of matrix b\n",
        "            for j in range(len(b[0])):\n",
        "                # Iterate through the rows of matrix b\n",
        "                for k in range(len(b)):\n",
        "                    # Multiply corresponding elements and add to the result\n",
        "                    result[i][j] += a[i][k] * b[k][j]\n",
        "        return result"
      ],
      "metadata": {
        "id": "C3Gqq2oW-6I4"
      },
      "execution_count": null,
      "outputs": []
    },
    {
      "cell_type": "code",
      "source": [
        "matrix1 = [[1, 2], [3, 4]]\n",
        "matrix2 = [[5, 6], [7, 8]]\n",
        "result = multiply_matrices(matrix1, matrix2)\n",
        "print(result)"
      ],
      "metadata": {
        "id": "FgQhpPCd-6AV",
        "colab": {
          "base_uri": "https://localhost:8080/"
        },
        "outputId": "6a73db06-f6ca-4be9-ed4c-4014f1007477"
      },
      "execution_count": null,
      "outputs": [
        {
          "output_type": "stream",
          "name": "stdout",
          "text": [
            "[[19, 22], [43, 50]]\n"
          ]
        }
      ]
    },
    {
      "cell_type": "markdown",
      "source": [
        "#3. Write a Python Program to Transpose a Matrix?"
      ],
      "metadata": {
        "id": "XxWMLJ5H68Pd"
      }
    },
    {
      "cell_type": "code",
      "source": [
        "def transpose_matrix(matrix):\n",
        "    # Create a new matrix with dimensions (len(matrix[0]), len(matrix))\n",
        "    result = [[0 for j in range(len(matrix))] for i in range(len(matrix[0]))]\n",
        "    # Iterate through the rows of the original matrix\n",
        "    for i in range(len(matrix)):\n",
        "        # Iterate through the columns of the original matrix\n",
        "        for j in range(len(matrix[0])):\n",
        "            # Assign the corresponding element of the original matrix\n",
        "            # to the corresponding position in the new matrix\n",
        "            result[j][i] = matrix[i][j]\n",
        "    return result"
      ],
      "metadata": {
        "id": "ujUvb8Yw6_yp"
      },
      "execution_count": null,
      "outputs": []
    },
    {
      "cell_type": "code",
      "source": [
        "matrix = [[1, 2, 3], [4, 5, 6], [7, 8, 9]]\n",
        "result = transpose_matrix(matrix)\n",
        "result"
      ],
      "metadata": {
        "id": "Bp7ymxfb6_Sl",
        "colab": {
          "base_uri": "https://localhost:8080/"
        },
        "outputId": "a9523425-3df5-4b5e-868b-b68692b1e6ff"
      },
      "execution_count": null,
      "outputs": [
        {
          "output_type": "execute_result",
          "data": {
            "text/plain": [
              "[[1, 4, 7], [2, 5, 8], [3, 6, 9]]"
            ]
          },
          "metadata": {},
          "execution_count": 7
        }
      ]
    },
    {
      "cell_type": "markdown",
      "source": [
        "# 4. Write a Python Program to Sort Words in Alphabetic Order?"
      ],
      "metadata": {
        "id": "2ex43D2j7EEC"
      }
    },
    {
      "cell_type": "code",
      "source": [
        "def sort_words(words):\n",
        "    # Sort the list of words in alphabetical order\n",
        "    words.sort()\n",
        "    return words"
      ],
      "metadata": {
        "id": "nQ53YG_X7HAS"
      },
      "execution_count": null,
      "outputs": []
    },
    {
      "cell_type": "code",
      "source": [
        "words = [\"apple\", \"banana\", \"cherry\", \"date\"]\n",
        "result = sort_words(words)\n",
        "print(result)"
      ],
      "metadata": {
        "id": "77yWhOp_7HmO",
        "colab": {
          "base_uri": "https://localhost:8080/"
        },
        "outputId": "c5cf43d1-3ec3-4bf6-f669-2b2085bdf1b6"
      },
      "execution_count": null,
      "outputs": [
        {
          "output_type": "stream",
          "name": "stdout",
          "text": [
            "['apple', 'banana', 'cherry', 'date']\n"
          ]
        }
      ]
    },
    {
      "cell_type": "markdown",
      "source": [
        "#5. Write a Python Program to Remove Punctuation From a String?"
      ],
      "metadata": {
        "id": "ei-V8-BN7IEA"
      }
    },
    {
      "cell_type": "code",
      "source": [
        "import string\n",
        "\n",
        "def remove_punctuation(input_string):\n",
        "    # Make a translator object to remove punctuation\n",
        "    translator = str.maketrans('', '', string.punctuation)\n",
        "    # Use this translator\n",
        "    no_punct = input_string.translate(translator)\n",
        "    return no_punct"
      ],
      "metadata": {
        "id": "YwteBqj37MkB"
      },
      "execution_count": null,
      "outputs": []
    },
    {
      "cell_type": "code",
      "source": [
        "text = \"Hello, World! How are you?\"\n",
        "result = remove_punctuation(text)\n",
        "print(result)"
      ],
      "metadata": {
        "id": "1yx0DI-F7L0i",
        "colab": {
          "base_uri": "https://localhost:8080/"
        },
        "outputId": "42fb7d24-94a0-4090-93cd-58c710ce6d04"
      },
      "execution_count": null,
      "outputs": [
        {
          "output_type": "stream",
          "name": "stdout",
          "text": [
            "Hello World How are you\n"
          ]
        }
      ]
    }
  ]
}