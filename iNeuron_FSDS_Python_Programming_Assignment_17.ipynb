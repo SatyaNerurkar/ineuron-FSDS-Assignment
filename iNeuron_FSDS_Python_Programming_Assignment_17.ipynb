{
  "nbformat": 4,
  "nbformat_minor": 0,
  "metadata": {
    "colab": {
      "provenance": [],
      "authorship_tag": "ABX9TyNla+HAEyiLQnGTNcHqIMtN"
    },
    "kernelspec": {
      "name": "python3",
      "display_name": "Python 3"
    },
    "language_info": {
      "name": "python"
    }
  },
  "cells": [
    {
      "cell_type": "markdown",
      "source": [
        "# Python programming assignment 17"
      ],
      "metadata": {
        "id": "Oeu-CKW3RCxC"
      }
    },
    {
      "cell_type": "markdown",
      "source": [
        "Assignment can be found at [Assignment](https://drive.google.com/file/d/1GmzMWfbw9YDcAzTRsrEfKIZxBHKlEufF/view)"
      ],
      "metadata": {
        "id": "HRdYhJS7RIof"
      }
    },
    {
      "cell_type": "markdown",
      "source": [
        "Question1. Create a function that takes three arguments a, b, c and returns the sum of the\n",
        "numbers that are evenly divided by c from the range a, b inclusive.<br>\n",
        "**Examples**\n",
        "* evenly_divisible(1, 10, 20) ➞ 0<br>\n",
        "No number between 1 and 10 can be evenly divided by 20.\n",
        "* evenly_divisible(1, 10, 2) ➞ 30<br>\n",
        "2 + 4 + 6 + 8 + 10 = 30\n",
        "* evenly_divisible(1, 10, 3) ➞ 18<br>\n",
        "3 + 6 + 9 = 18"
      ],
      "metadata": {
        "id": "CKwOGnYzRak_"
      }
    },
    {
      "cell_type": "code",
      "execution_count": 1,
      "metadata": {
        "id": "Z2SC0h_-LOOK"
      },
      "outputs": [],
      "source": [
        "def evenly_divisible(a, b, c):\n",
        "    total = 0\n",
        "    for num in range(a, b+1):\n",
        "        if num % c == 0:\n",
        "            total += num\n",
        "    return total"
      ]
    },
    {
      "cell_type": "code",
      "source": [
        "print(evenly_divisible(1, 10, 20)) \n",
        "print(evenly_divisible(1, 10, 2))  \n",
        "print(evenly_divisible(1, 10, 3))  "
      ],
      "metadata": {
        "colab": {
          "base_uri": "https://localhost:8080/"
        },
        "id": "42ddPbVHRwO_",
        "outputId": "cfb883a9-38e2-4df3-919a-d0267b01a2a0"
      },
      "execution_count": 2,
      "outputs": [
        {
          "output_type": "stream",
          "name": "stdout",
          "text": [
            "0\n",
            "30\n",
            "18\n"
          ]
        }
      ]
    },
    {
      "cell_type": "markdown",
      "source": [
        "Question2. Create a function that returns True if a given inequality expression is correct and\n",
        "False otherwise.<br>\n",
        "**Examples**\n",
        "* correct_signs(&quot;3 &lt; 7 &lt; 11&quot;) ➞ True\n",
        "* correct_signs(&quot;13 &gt; 44 &gt; 33 &gt; 1&quot;) ➞ False\n",
        "* correct_signs(&quot;1 &lt; 2 &lt; 6 &lt; 9 &gt; 3&quot;) ➞ True"
      ],
      "metadata": {
        "id": "lURXMrPRR3Ia"
      }
    },
    {
      "cell_type": "code",
      "source": [
        "def correct_signs(expression):\n",
        "    return eval(expression)"
      ],
      "metadata": {
        "id": "2jSi2USgRzlO"
      },
      "execution_count": 3,
      "outputs": []
    },
    {
      "cell_type": "code",
      "source": [
        "print(correct_signs(\"3 < 7 < 11\")) \n",
        "print(correct_signs(\"13 > 44 > 33 > 1\"))  \n",
        "print(correct_signs(\"1 < 2 < 6 < 9 > 3\"))  \n"
      ],
      "metadata": {
        "colab": {
          "base_uri": "https://localhost:8080/"
        },
        "id": "AigDZZaTSLsm",
        "outputId": "29f87942-f7e3-4879-da3b-341bdf0684b2"
      },
      "execution_count": 4,
      "outputs": [
        {
          "output_type": "stream",
          "name": "stdout",
          "text": [
            "True\n",
            "False\n",
            "True\n"
          ]
        }
      ]
    },
    {
      "cell_type": "markdown",
      "source": [
        "Question3. Create a function that replaces all the vowels in a string with a specified character.<Br>\n",
        "**Examples**\n",
        "* replace_vowels(&quot;the aardvark&quot;, &quot;#&quot;) ➞ &quot;th# ##rdv#rk&quot;\n",
        "* replace_vowels(&quot;minnie mouse&quot;, &quot;?&quot;) ➞ &quot;m?nn?? m??s?&quot;\n",
        "* replace_vowels(&quot;shakespeare&quot;, &quot;*&quot;) ➞ &quot;sh*k*sp**r*&quot;"
      ],
      "metadata": {
        "id": "Bfva7mkaSUkW"
      }
    },
    {
      "cell_type": "code",
      "source": [
        "def replace_vowels(string, character):\n",
        "    vowels = \"aeiouAEIOU\"\n",
        "    for vowel in vowels:\n",
        "        string = string.replace(vowel, character)\n",
        "    return string"
      ],
      "metadata": {
        "id": "CLAwn-gmSNVO"
      },
      "execution_count": 5,
      "outputs": []
    },
    {
      "cell_type": "code",
      "source": [
        "print(replace_vowels(\"the aardvark\", \"#\")) \n",
        "print(replace_vowels(\"minnie mouse\", \"?\")) \n",
        "print(replace_vowels(\"shakespeare\", \"*\"))  "
      ],
      "metadata": {
        "colab": {
          "base_uri": "https://localhost:8080/"
        },
        "id": "LeY_Szddo1nu",
        "outputId": "53022a7a-0cb8-44ea-ed36-df75cb6222cb"
      },
      "execution_count": 6,
      "outputs": [
        {
          "output_type": "stream",
          "name": "stdout",
          "text": [
            "th# ##rdv#rk\n",
            "m?nn?? m??s?\n",
            "sh*k*sp**r*\n"
          ]
        }
      ]
    },
    {
      "cell_type": "markdown",
      "source": [
        "Question4. Write a function that calculates the factorial of a number recursively.<Br>\n",
        "**Examples**\n",
        "* factorial(5) ➞ 120\n",
        "* factorial(3) ➞ 6\n",
        "* factorial(1) ➞ 1\n",
        "* factorial(0) ➞ 1"
      ],
      "metadata": {
        "id": "vdjCbo96pB2o"
      }
    },
    {
      "cell_type": "code",
      "source": [
        "def factorial(n):\n",
        "    if n == 0 or n == 1:\n",
        "        return 1\n",
        "    else:\n",
        "        return n * factorial(n - 1)"
      ],
      "metadata": {
        "id": "ugpHyF5Ho62x"
      },
      "execution_count": 7,
      "outputs": []
    },
    {
      "cell_type": "code",
      "source": [
        "print(factorial(5))  \n",
        "print(factorial(3))  \n",
        "print(factorial(1))  \n",
        "print(factorial(0))  "
      ],
      "metadata": {
        "colab": {
          "base_uri": "https://localhost:8080/"
        },
        "id": "PMlXQM9Ipa2u",
        "outputId": "15ddec5b-a903-4491-b012-7937878a649d"
      },
      "execution_count": 8,
      "outputs": [
        {
          "output_type": "stream",
          "name": "stdout",
          "text": [
            "120\n",
            "6\n",
            "1\n",
            "1\n"
          ]
        }
      ]
    },
    {
      "cell_type": "markdown",
      "source": [
        "Question 5<Br>\n",
        "Hamming distance is the number of characters that differ between two strings.\n",
        "To illustrate:<br>\n",
        "* String1: &quot;abcbba&quot;<Br>\n",
        "* String2: &quot;abcbda&quot;<Br>\n",
        "\n",
        "Hamming Distance: 1 - &quot;b&quot; vs. &quot;d&quot; is the only difference.\n",
        "Create a function that computes the hamming distance between two strings.<Br>\n",
        "**Examples**<Br>\n",
        "* hamming_distance(&quot;abcde&quot;, &quot;bcdef&quot;) ➞ 5<Br>\n",
        "* hamming_distance(&quot;abcde&quot;, &quot;abcde&quot;) ➞ 0<Br>\n",
        "* hamming_distance(&quot;strong&quot;, &quot;strung&quot;) ➞ 1<Br>"
      ],
      "metadata": {
        "id": "OOx1bjR4ph1F"
      }
    },
    {
      "cell_type": "code",
      "source": [
        "def hamming_distance(str1, str2):\n",
        "    if len(str1) != len(str2):\n",
        "        raise ValueError(\"Input strings must have the same length\")\n",
        "    \n",
        "    distance = 0\n",
        "    for char1, char2 in zip(str1, str2):\n",
        "        if char1 != char2:\n",
        "            distance += 1\n",
        "    \n",
        "    return distance"
      ],
      "metadata": {
        "id": "NKVw1V-7pe8D"
      },
      "execution_count": 9,
      "outputs": []
    },
    {
      "cell_type": "code",
      "source": [
        "print(hamming_distance(\"abcde\", \"bcdef\")) \n",
        "print(hamming_distance(\"abcde\", \"abcde\")) \n",
        "print(hamming_distance(\"strong\", \"strung\"))"
      ],
      "metadata": {
        "colab": {
          "base_uri": "https://localhost:8080/"
        },
        "id": "9hwm58HuqJ8D",
        "outputId": "d83bb435-ec3d-485e-b42e-29e9a7b5b760"
      },
      "execution_count": 10,
      "outputs": [
        {
          "output_type": "stream",
          "name": "stdout",
          "text": [
            "5\n",
            "0\n",
            "1\n"
          ]
        }
      ]
    }
  ]
}