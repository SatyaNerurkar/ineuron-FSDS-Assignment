{
  "nbformat": 4,
  "nbformat_minor": 0,
  "metadata": {
    "colab": {
      "provenance": []
    },
    "kernelspec": {
      "name": "python3",
      "display_name": "Python 3"
    },
    "language_info": {
      "name": "python"
    }
  },
  "cells": [
    {
      "cell_type": "markdown",
      "source": [
        "#Python programming assignment 07"
      ],
      "metadata": {
        "id": "7yVLeBNOqZpP"
      }
    },
    {
      "cell_type": "markdown",
      "source": [
        "Assignmrnt can be found at: [Assignment](https://drive.google.com/file/d/12gBynIzKKfWri0UfR5zm-JClbBlK-1vp/view)"
      ],
      "metadata": {
        "id": "Ha2tGrePqZg2"
      }
    },
    {
      "cell_type": "markdown",
      "source": [
        "# 1. Write a Python Program to find sum of array?"
      ],
      "metadata": {
        "id": "63GO8c1jqZKv"
      }
    },
    {
      "cell_type": "code",
      "execution_count": 1,
      "metadata": {
        "id": "uoFyjO1moZfO"
      },
      "outputs": [],
      "source": [
        "def sum_array(arr):\n",
        "    total = 0\n",
        "    for num in arr:\n",
        "        total += num\n",
        "    return total"
      ]
    },
    {
      "cell_type": "code",
      "source": [
        "numbers = [1, 2, 3, 4, 5]\n",
        "result = sum_array(numbers)\n",
        "print(result)"
      ],
      "metadata": {
        "colab": {
          "base_uri": "https://localhost:8080/"
        },
        "id": "IINYSBy6okDs",
        "outputId": "f69ad84c-ad69-4f6d-d036-69c001529295"
      },
      "execution_count": 2,
      "outputs": [
        {
          "output_type": "stream",
          "name": "stdout",
          "text": [
            "15\n"
          ]
        }
      ]
    },
    {
      "cell_type": "markdown",
      "source": [
        "# 2. Write a Python Program to find largest element in an array?"
      ],
      "metadata": {
        "id": "f6-Ko6CHopwK"
      }
    },
    {
      "cell_type": "code",
      "source": [
        "def find_largest(arr):\n",
        "    largest = arr[0]\n",
        "    for num in arr:\n",
        "        if num > largest:\n",
        "            largest = num\n",
        "    return largest"
      ],
      "metadata": {
        "id": "nYdKNXVIolpU"
      },
      "execution_count": 3,
      "outputs": []
    },
    {
      "cell_type": "code",
      "source": [
        "numbers = [1, 2, 3, 4, 5, 8, 6]\n",
        "result = find_largest(numbers)\n",
        "print(result)"
      ],
      "metadata": {
        "colab": {
          "base_uri": "https://localhost:8080/"
        },
        "id": "IxUM7EASo8q2",
        "outputId": "6775a225-f7aa-40aa-9109-83c03b9aeb38"
      },
      "execution_count": 4,
      "outputs": [
        {
          "output_type": "stream",
          "name": "stdout",
          "text": [
            "8\n"
          ]
        }
      ]
    },
    {
      "cell_type": "markdown",
      "source": [
        "# 3. Write a Python Program for array rotation?"
      ],
      "metadata": {
        "id": "yn2ZxEK5pFGF"
      }
    },
    {
      "cell_type": "code",
      "source": [
        "def rotate_array(arr, k):\n",
        "    for i in range(k):\n",
        "        temp = arr[0]\n",
        "        for j in range(len(arr)-1):\n",
        "            arr[j] = arr[j+1]\n",
        "        arr[-1] = temp\n",
        "    return arr"
      ],
      "metadata": {
        "id": "_CfdKnaAo9yS"
      },
      "execution_count": 5,
      "outputs": []
    },
    {
      "cell_type": "code",
      "source": [
        "numbers = [1, 2, 3, 4, 5]\n",
        "result = rotate_array(numbers, 2)\n",
        "print(result)"
      ],
      "metadata": {
        "colab": {
          "base_uri": "https://localhost:8080/"
        },
        "id": "dRZNLo9ApVnM",
        "outputId": "d39dfec5-e50b-401d-91d9-4dbd0015517a"
      },
      "execution_count": 6,
      "outputs": [
        {
          "output_type": "stream",
          "name": "stdout",
          "text": [
            "[3, 4, 5, 1, 2]\n"
          ]
        }
      ]
    },
    {
      "cell_type": "markdown",
      "source": [
        "# 4. Write a Python Program to Split the array and add the first part to the end?"
      ],
      "metadata": {
        "id": "mgy-qqW8pZ5d"
      }
    },
    {
      "cell_type": "code",
      "source": [
        "def split_and_add(arr, k):\n",
        "    first_part = arr[:k]\n",
        "    second_part = arr[k:]\n",
        "    return second_part + first_part"
      ],
      "metadata": {
        "id": "LYuOkFF5pWIj"
      },
      "execution_count": 7,
      "outputs": []
    },
    {
      "cell_type": "code",
      "source": [
        "numbers = [1, 2, 3, 4, 5, 6, 7]\n",
        "result = split_and_add(numbers, 3)\n",
        "print(result)"
      ],
      "metadata": {
        "colab": {
          "base_uri": "https://localhost:8080/"
        },
        "id": "NeUkoB61pu8q",
        "outputId": "b3352c60-0be4-4bd8-9b20-aa3fb46c2766"
      },
      "execution_count": 8,
      "outputs": [
        {
          "output_type": "stream",
          "name": "stdout",
          "text": [
            "[4, 5, 6, 7, 1, 2, 3]\n"
          ]
        }
      ]
    },
    {
      "cell_type": "markdown",
      "source": [
        "# 5. Write a Python Program to check if given array is Monotonic?"
      ],
      "metadata": {
        "id": "FfQaD1Ytp5p0"
      }
    },
    {
      "cell_type": "code",
      "source": [
        "def is_monotonic(arr):\n",
        "    if len(arr) <= 1:\n",
        "        return True\n",
        "    else:\n",
        "        increasing = None\n",
        "        for i in range(len(arr) - 1):\n",
        "            if arr[i] < arr[i+1]:\n",
        "                if increasing is None:\n",
        "                    increasing = True\n",
        "                elif not increasing:\n",
        "                    return False\n",
        "            elif arr[i] > arr[i+1]:\n",
        "                if increasing is None:\n",
        "                    increasing = False\n",
        "                elif increasing:\n",
        "                    return False\n",
        "    return True"
      ],
      "metadata": {
        "id": "TeEz6pKapvks"
      },
      "execution_count": 9,
      "outputs": []
    },
    {
      "cell_type": "code",
      "source": [
        "numbers = [1, 2, 3, 4, 5, 6, 7]\n",
        "result = is_monotonic(numbers)\n",
        "print(result)"
      ],
      "metadata": {
        "colab": {
          "base_uri": "https://localhost:8080/"
        },
        "id": "GPIY9bdjqOH0",
        "outputId": "2505f92a-9bc2-45bb-84e7-a618f0b7f536"
      },
      "execution_count": 10,
      "outputs": [
        {
          "output_type": "stream",
          "name": "stdout",
          "text": [
            "True\n"
          ]
        }
      ]
    },
    {
      "cell_type": "code",
      "source": [],
      "metadata": {
        "id": "lm-Ik90rqOuP"
      },
      "execution_count": null,
      "outputs": []
    }
  ]
}