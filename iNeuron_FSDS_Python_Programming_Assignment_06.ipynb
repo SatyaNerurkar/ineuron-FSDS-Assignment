{
  "nbformat": 4,
  "nbformat_minor": 0,
  "metadata": {
    "colab": {
      "provenance": []
    },
    "kernelspec": {
      "name": "python3",
      "display_name": "Python 3"
    },
    "language_info": {
      "name": "python"
    }
  },
  "cells": [
    {
      "cell_type": "markdown",
      "source": [
        "# Python programming assignment 06"
      ],
      "metadata": {
        "id": "naHxPfSa6F1a"
      }
    },
    {
      "cell_type": "markdown",
      "source": [
        "Assignment can be found at: [Assignment](https://drive.google.com/file/d/1ahOgqrt6aU6NLxv18UrfSFKQuY9CT9qS/view)"
      ],
      "metadata": {
        "id": "mTaia30G2tOu"
      }
    },
    {
      "cell_type": "markdown",
      "source": [
        "#1.   Write a Python Program to Display Fibonacci Sequence Using Recursion?\n",
        "\n",
        "\n"
      ],
      "metadata": {
        "id": "y27G9F1b2ku-"
      }
    },
    {
      "cell_type": "code",
      "execution_count": 1,
      "metadata": {
        "id": "34brKS8U2iWd"
      },
      "outputs": [],
      "source": [
        "def Fibonacci(n):\n",
        "    if n <= 0:\n",
        "        return 0\n",
        "    elif n == 1:\n",
        "        return 1\n",
        "    else:\n",
        "        return Fibonacci(n-1) + Fibonacci(n-2)"
      ]
    },
    {
      "cell_type": "code",
      "source": [
        "nterms = int(input(\"How many terms? \"))\n",
        "\n",
        "# check if the number of terms is valid\n",
        "if nterms <= 0:\n",
        "   print(\"Plese enter a positive integer\")\n",
        "else:\n",
        "   print(\"Fibonacci sequence:\")\n",
        "   for i in range(nterms):\n",
        "       print(Fibonacci(i))"
      ],
      "metadata": {
        "colab": {
          "base_uri": "https://localhost:8080/"
        },
        "id": "ijvJDPo126Ps",
        "outputId": "57147577-e1d3-42d4-9dba-411828f732db"
      },
      "execution_count": 2,
      "outputs": [
        {
          "output_type": "stream",
          "name": "stdout",
          "text": [
            "How many terms? 10\n",
            "Fibonacci sequence:\n",
            "0\n",
            "1\n",
            "1\n",
            "2\n",
            "3\n",
            "5\n",
            "8\n",
            "13\n",
            "21\n",
            "34\n"
          ]
        }
      ]
    },
    {
      "cell_type": "markdown",
      "source": [
        "# 2.   Write a Python Program to Find Factorial of Number Using Recursion?\n",
        "\n",
        "\n"
      ],
      "metadata": {
        "id": "7Sy4t2dO3GaM"
      }
    },
    {
      "cell_type": "code",
      "source": [
        "def factorial(n):\n",
        "    if n == 1:\n",
        "        return 1\n",
        "    else:\n",
        "        return n * factorial(n-1)"
      ],
      "metadata": {
        "id": "mI3jVzFG3DS2"
      },
      "execution_count": 3,
      "outputs": []
    },
    {
      "cell_type": "code",
      "source": [
        "num = int(input(\"Enter a number: \"))\n",
        "\n",
        "if num < 0:\n",
        "   print(\"Sorry, factorial does not exist for negative numbers\")\n",
        "elif num == 0:\n",
        "   print(\"The factorial of 0 is 1\")\n",
        "else:\n",
        "   print(\"The factorial of\", num, \"is\", factorial(num))"
      ],
      "metadata": {
        "colab": {
          "base_uri": "https://localhost:8080/"
        },
        "id": "7AfB9CyV3VSZ",
        "outputId": "143db40e-82d5-4bf2-9d85-fcd5271be141"
      },
      "execution_count": 4,
      "outputs": [
        {
          "output_type": "stream",
          "name": "stdout",
          "text": [
            "Enter a number: 31\n",
            "The factorial of 31 is 8222838654177922817725562880000000\n"
          ]
        }
      ]
    },
    {
      "cell_type": "markdown",
      "source": [
        "# 3.   Write a Python Program to calculate your Body Mass Index?\n",
        "\n",
        "\n"
      ],
      "metadata": {
        "id": "DwzwYe5P368e"
      }
    },
    {
      "cell_type": "code",
      "source": [
        "def BMI(weight, height):\n",
        "  return (weight / (height * height))"
      ],
      "metadata": {
        "id": "Yj71Q6jb3Vy0"
      },
      "execution_count": 5,
      "outputs": []
    },
    {
      "cell_type": "code",
      "source": [
        "weight = float(input(\"Enter your weight in kg: \"))\n",
        "height = float(input(\"Enter your height in meters: \"))\n",
        "\n",
        "print(\"Your Body Mass Index (BMI) is: \", BMI(weight, height))"
      ],
      "metadata": {
        "colab": {
          "base_uri": "https://localhost:8080/"
        },
        "id": "XLbP6hlh4KD5",
        "outputId": "60d9d60f-2be1-4436-9a64-2703f4e3f432"
      },
      "execution_count": 6,
      "outputs": [
        {
          "output_type": "stream",
          "name": "stdout",
          "text": [
            "Enter your weight in kg: 60\n",
            "Enter your height in meters: 151\n",
            "Your Body Mass Index (BMI) is:  0.002631463532301215\n"
          ]
        }
      ]
    },
    {
      "cell_type": "markdown",
      "source": [
        "# 4.    Write a Python Program to calculate the natural logarithm of any number?"
      ],
      "metadata": {
        "id": "DuFAvgDZ4h9E"
      }
    },
    {
      "cell_type": "code",
      "source": [
        "import math\n",
        "\n",
        "num = float(input(\"Enter a number: \"))\n",
        "\n",
        "result = math.log(num)\n",
        "\n",
        "print(\"The natural logarithm of\", num, \"is\", result)"
      ],
      "metadata": {
        "colab": {
          "base_uri": "https://localhost:8080/"
        },
        "id": "QQsldViC4a4f",
        "outputId": "45fe92a1-6678-42eb-d112-b5a38aeae5e7"
      },
      "execution_count": 7,
      "outputs": [
        {
          "output_type": "stream",
          "name": "stdout",
          "text": [
            "Enter a number: 6\n",
            "The natural logarithm of 6.0 is 1.791759469228055\n"
          ]
        }
      ]
    },
    {
      "cell_type": "markdown",
      "source": [
        "# 5.    Write a Python Program for cube sum of first n natural numbers?"
      ],
      "metadata": {
        "id": "VhFCC2x540wR"
      }
    },
    {
      "cell_type": "code",
      "source": [
        "def cube(n):\n",
        "  sum = 0\n",
        "  for i in range(1, n+1):\n",
        "    sum += i**3\n",
        "  return sum"
      ],
      "metadata": {
        "id": "BJxp2IK14wYG"
      },
      "execution_count": 8,
      "outputs": []
    },
    {
      "cell_type": "code",
      "source": [
        "n = int(input(\"Enter the value of n: \"))\n",
        "\n",
        "print(\"The cube sum of the first\", n, \"natural numbers is\", cube(n))"
      ],
      "metadata": {
        "colab": {
          "base_uri": "https://localhost:8080/"
        },
        "id": "0nMoGnOJ5CMk",
        "outputId": "d068e6f8-c65c-4bc1-d582-75ec68ee351a"
      },
      "execution_count": 9,
      "outputs": [
        {
          "output_type": "stream",
          "name": "stdout",
          "text": [
            "Enter the value of n: 13\n",
            "The cube sum of the first 13 natural numbers is 8281\n"
          ]
        }
      ]
    }
  ]
}