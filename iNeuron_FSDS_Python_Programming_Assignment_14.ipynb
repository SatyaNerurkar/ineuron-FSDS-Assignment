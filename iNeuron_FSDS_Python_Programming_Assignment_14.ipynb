{
  "nbformat": 4,
  "nbformat_minor": 0,
  "metadata": {
    "colab": {
      "provenance": []
    },
    "kernelspec": {
      "name": "python3",
      "display_name": "Python 3"
    },
    "language_info": {
      "name": "python"
    }
  },
  "cells": [
    {
      "cell_type": "markdown",
      "source": [
        "# Python programming assignment 14"
      ],
      "metadata": {
        "id": "QFDWNY4egkDO"
      }
    },
    {
      "cell_type": "markdown",
      "source": [
        "Assignment can be found at [Assignment](https://drive.google.com/file/d/1ePUiHLs0lNCIwunPmoUDsonVzR-ZQoBa/view)"
      ],
      "metadata": {
        "id": "JCQmcQuvgj59"
      }
    },
    {
      "cell_type": "markdown",
      "source": [
        "Define a class with a generator which can iterate the numbers, which are divisible by 7, between a given range 0 and n."
      ],
      "metadata": {
        "id": "et5TY5yNgj24"
      }
    },
    {
      "cell_type": "code",
      "execution_count": 1,
      "metadata": {
        "id": "fdqNO9JodkHL"
      },
      "outputs": [],
      "source": [
        "class DivisibleBySeven:\n",
        "    def __init__(self,n):\n",
        "        self.n=n\n",
        "    def iterate_divisible_by_seven(self):\n",
        "        for i in range(self.n+1):\n",
        "            if i%7==0:\n",
        "                yield i"
      ]
    },
    {
      "cell_type": "code",
      "source": [
        "n=int(input(\"Enter the range for divisible by 7 numbers:\"))\n",
        "divisiblebyseven = DivisibleBySeven(n)"
      ],
      "metadata": {
        "colab": {
          "base_uri": "https://localhost:8080/"
        },
        "id": "T2xzih5ihEaQ",
        "outputId": "072aa1e8-9deb-486c-b3cf-8022698af8f8"
      },
      "execution_count": 2,
      "outputs": [
        {
          "name": "stdout",
          "output_type": "stream",
          "text": [
            "Enter the range for divisible by 7 numbers:100\n"
          ]
        }
      ]
    },
    {
      "cell_type": "code",
      "source": [
        "for num in divisiblebyseven.iterate_divisible_by_seven():\n",
        "    print(num)"
      ],
      "metadata": {
        "colab": {
          "base_uri": "https://localhost:8080/"
        },
        "id": "exhQWK4uhI98",
        "outputId": "3873d103-195a-40b9-9117-656f84b8849a"
      },
      "execution_count": 3,
      "outputs": [
        {
          "output_type": "stream",
          "name": "stdout",
          "text": [
            "0\n",
            "7\n",
            "14\n",
            "21\n",
            "28\n",
            "35\n",
            "42\n",
            "49\n",
            "56\n",
            "63\n",
            "70\n",
            "77\n",
            "84\n",
            "91\n",
            "98\n"
          ]
        }
      ]
    },
    {
      "cell_type": "markdown",
      "source": [
        "Write a program to compute the frequency of the words from the input.<br> The output\n",
        "should output after sorting the key alphanumerically.<br>\n",
        "Suppose the following input is supplied to the program:<br>\n",
        "`New to Python or choosing between Python 2 and Python 3? Read Python 2 or Python 3.`<br>\n",
        "Then, the output should be:<br>\n",
        "`2:2`<br>\n",
        "`3.:1`<br>\n",
        "`3?:1`<br>\n",
        "`New:1`<br>\n",
        "`Python:5`<br>\n",
        "`Read:1`<br>\n",
        "`and:1`<br>\n",
        "`between:1`<br>\n",
        "`choosing:1`<br>\n",
        "`or:2`<br>\n",
        "`to:1`"
      ],
      "metadata": {
        "id": "N54Wvb4Lj-4P"
      }
    },
    {
      "cell_type": "code",
      "source": [
        "import re\n",
        "from collections import Counter\n",
        "\n",
        "text = input(\"Enter some text: \")\n",
        "\n",
        "# Use regular expressions to remove punctuation and convert to lowercase\n",
        "text = re.sub(r'[^\\w\\s]','',text)\n",
        "text = text.lower()\n",
        "\n",
        "# Use the Counter class to count the frequency of each word\n",
        "word_freq = Counter(text.split())\n",
        "\n",
        "# Sort the word frequency dictionary alphanumerically by the word\n",
        "sorted_word_freq = dict(sorted(word_freq.items()))\n",
        "\n",
        "# Output the frequency of each word\n",
        "for word, freq in sorted_word_freq.items():\n",
        "    print(f\"{word}: {freq}\")\n"
      ],
      "metadata": {
        "colab": {
          "base_uri": "https://localhost:8080/"
        },
        "id": "wnb9dDdIhJRe",
        "outputId": "a85dbe19-6e8c-4a9c-afba-4404de44fed2"
      },
      "execution_count": 4,
      "outputs": [
        {
          "output_type": "stream",
          "name": "stdout",
          "text": [
            "Enter some text: India is my country\n",
            "country: 1\n",
            "india: 1\n",
            "is: 1\n",
            "my: 1\n"
          ]
        }
      ]
    },
    {
      "cell_type": "markdown",
      "source": [
        "Define a class Person and its two child classes: Male and Female.<br> All classes have a\n",
        "method \"getGender\" which can print \"Male\" for Male class and \"Female\" for Female\n",
        "class."
      ],
      "metadata": {
        "id": "MphsfWj4lb16"
      }
    },
    {
      "cell_type": "code",
      "source": [
        "class Person:\n",
        "    def __init__(self, name):\n",
        "        self.name = name\n",
        "    def getGender(self):\n",
        "        pass\n",
        "\n",
        "class Male(Person):\n",
        "    def getGender(self):\n",
        "        print(\"Male\")\n",
        "\n",
        "class Female(Person):\n",
        "    def getGender(self):\n",
        "        print(\"Female\")\n",
        "\n",
        "p1= Male(\"John\")\n",
        "p2= Female(\"Emily\")\n",
        "\n",
        "print(p1.name)\n",
        "p1.getGender()\n",
        "\n",
        "print(p2.name)\n",
        "p2.getGender()"
      ],
      "metadata": {
        "colab": {
          "base_uri": "https://localhost:8080/"
        },
        "id": "eKVL1igFl8t1",
        "outputId": "5aa33340-d4a2-4223-8857-fe02eeb9f1ea"
      },
      "execution_count": 5,
      "outputs": [
        {
          "output_type": "stream",
          "name": "stdout",
          "text": [
            "John\n",
            "Male\n",
            "Emily\n",
            "Female\n"
          ]
        }
      ]
    },
    {
      "cell_type": "markdown",
      "source": [
        "Please write a program to generate all sentences where subject is in [\"I\", \"You\"] and verb is in [\"Play\", \"Love\"] and the object is in [\"Hockey\",\"Football\"]."
      ],
      "metadata": {
        "id": "FLRByySmmgHA"
      }
    },
    {
      "cell_type": "code",
      "source": [
        "subjects = [\"I\", \"You\"]\n",
        "verbs = [\"play\", \"love\"]\n",
        "objects = [\"hockey\", \"football\"]\n",
        "\n",
        "for sub in subjects:\n",
        "    for verb in verbs:\n",
        "        for obj in objects:\n",
        "            print(f\"{sub} {verb} {obj}.\")"
      ],
      "metadata": {
        "colab": {
          "base_uri": "https://localhost:8080/"
        },
        "id": "2yTCtB63m2Km",
        "outputId": "7e87a5fe-825d-40ed-cdda-ba2a02708b93"
      },
      "execution_count": 6,
      "outputs": [
        {
          "output_type": "stream",
          "name": "stdout",
          "text": [
            "I play hockey.\n",
            "I play football.\n",
            "I love hockey.\n",
            "I love football.\n",
            "You play hockey.\n",
            "You play football.\n",
            "You love hockey.\n",
            "You love football.\n"
          ]
        }
      ]
    },
    {
      "cell_type": "markdown",
      "source": [
        "Please write a program to compress and decompress the string \"hello world!hello\n",
        "world!hello world!hello world!\""
      ],
      "metadata": {
        "id": "jUhjQFCupEzy"
      }
    },
    {
      "cell_type": "code",
      "source": [
        "import zlib\n",
        "\n",
        "# Compress the string\n",
        "original_string = \"hello world!hello world!hello world!hello world!\"\n",
        "compressed_string = zlib.compress(original_string.encode())\n",
        "\n",
        "# Decompress the string\n",
        "decompressed_string = zlib.decompress(compressed_string).decode()\n",
        "\n",
        "print(\"Original String: \", original_string)\n",
        "print(\"Compressed String: \", compressed_string)\n",
        "print(\"Decompressed String: \", decompressed_string)"
      ],
      "metadata": {
        "colab": {
          "base_uri": "https://localhost:8080/"
        },
        "id": "2Rx7Y5oPoqJp",
        "outputId": "18bcf535-bb89-43f5-dec1-5a7ccb22f807"
      },
      "execution_count": 7,
      "outputs": [
        {
          "output_type": "stream",
          "name": "stdout",
          "text": [
            "Original String:  hello world!hello world!hello world!hello world!\n",
            "Compressed String:  b'x\\x9c\\xcbH\\xcd\\xc9\\xc9W(\\xcf/\\xcaIQ\\xcc \\x82\\r\\x00\\xbd[\\x11\\xf5'\n",
            "Decompressed String:  hello world!hello world!hello world!hello world!\n"
          ]
        }
      ]
    },
    {
      "cell_type": "markdown",
      "source": [
        "Please write a binary search function which searches an item in a sorted list. The function should return the index of element to be searched in the list."
      ],
      "metadata": {
        "id": "Ac-GuMLjpXbX"
      }
    },
    {
      "cell_type": "code",
      "source": [
        "def binary_search(arr, x):\n",
        "    low = 0\n",
        "    high = len(arr) - 1\n",
        "    mid = 0\n",
        "\n",
        "    while low <= high:\n",
        "        mid = (high + low) // 2\n",
        "        if arr[mid] < x:\n",
        "            low = mid + 1\n",
        "        elif arr[mid] > x:\n",
        "            high = mid - 1\n",
        "        else:\n",
        "            return mid\n",
        "    return -1\n",
        "\n",
        "arr = [1,2,3,4,5,6,7,8,9,10]\n",
        "x = int(input(\"Enter the element to search:\"))\n",
        "result = binary_search(arr, x)\n",
        "\n",
        "if result != -1:\n",
        "    print(f\"Element is present at index {str(result)}\")\n",
        "else:\n",
        "    print(\"Element is not present in array\")"
      ],
      "metadata": {
        "colab": {
          "base_uri": "https://localhost:8080/"
        },
        "id": "J1qG9gXDpJkj",
        "outputId": "7b81a523-1448-4a4d-dc3f-3b030c59e690"
      },
      "execution_count": 8,
      "outputs": [
        {
          "output_type": "stream",
          "name": "stdout",
          "text": [
            "Enter the element to search:7\n",
            "Element is present at index 6\n"
          ]
        }
      ]
    },
    {
      "cell_type": "code",
      "source": [],
      "metadata": {
        "id": "6h1ZD4VLp9hk"
      },
      "execution_count": null,
      "outputs": []
    }
  ]
}